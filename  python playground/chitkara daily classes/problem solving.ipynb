{
 "cells": [
  {
   "cell_type": "code",
   "execution_count": null,
   "metadata": {},
   "outputs": [],
   "source": [
    "\n",
    "a=int(input())\n",
    "b=int(input())\n",
    "c=int(input())\n",
    "while a or b or c !=7:\n",
    "    print(a*b*c)\n",
    "\n",
    "\n",
    "\n",
    "\n",
    "\n",
    "\n",
    "\n"
   ]
  },
  {
   "cell_type": "code",
   "execution_count": 1,
   "metadata": {},
   "outputs": [
    {
     "name": "stdout",
     "output_type": "stream",
     "text": [
      "2,3,4\n"
     ]
    },
    {
     "ename": "ValueError",
     "evalue": "invalid literal for int() with base 10: '2,3,4'",
     "output_type": "error",
     "traceback": [
      "\u001b[0;31m---------------------------------------------------------------------------\u001b[0m",
      "\u001b[0;31mValueError\u001b[0m                                Traceback (most recent call last)",
      "\u001b[0;32m<ipython-input-1-dae987cef5be>\u001b[0m in \u001b[0;36m<module>\u001b[0;34m\u001b[0m\n\u001b[1;32m      4\u001b[0m \u001b[0;34m\u001b[0m\u001b[0m\n\u001b[1;32m      5\u001b[0m \u001b[0;34m\u001b[0m\u001b[0m\n\u001b[0;32m----> 6\u001b[0;31m \u001b[0ma\u001b[0m\u001b[0;34m=\u001b[0m\u001b[0mint\u001b[0m\u001b[0;34m(\u001b[0m\u001b[0minput\u001b[0m\u001b[0;34m(\u001b[0m\u001b[0;34m)\u001b[0m\u001b[0;34m)\u001b[0m\u001b[0;34m\u001b[0m\u001b[0;34m\u001b[0m\u001b[0m\n\u001b[0m\u001b[1;32m      7\u001b[0m \u001b[0mb\u001b[0m\u001b[0;34m=\u001b[0m\u001b[0mint\u001b[0m\u001b[0;34m(\u001b[0m\u001b[0minput\u001b[0m\u001b[0;34m(\u001b[0m\u001b[0;34m)\u001b[0m\u001b[0;34m)\u001b[0m\u001b[0;34m\u001b[0m\u001b[0;34m\u001b[0m\u001b[0m\n\u001b[1;32m      8\u001b[0m \u001b[0mc\u001b[0m\u001b[0;34m=\u001b[0m\u001b[0mint\u001b[0m\u001b[0;34m(\u001b[0m\u001b[0minput\u001b[0m\u001b[0;34m(\u001b[0m\u001b[0;34m)\u001b[0m\u001b[0;34m)\u001b[0m\u001b[0;34m\u001b[0m\u001b[0;34m\u001b[0m\u001b[0m\n",
      "\u001b[0;31mValueError\u001b[0m: invalid literal for int() with base 10: '2,3,4'"
     ]
    }
   ],
   "source": [
    "def f(a,b,c):\n",
    "  if a+b>=c and b+c>=a and a+c>=b:\n",
    "      return yes\n",
    "\n",
    "\n",
    "a=int(input())\n",
    "b=int(input())\n",
    "c=int(input())\n",
    "\n",
    "    \n",
    "print(f(a,b,c))\n",
    "\n"
   ]
  },
  {
   "cell_type": "code",
   "execution_count": 3,
   "metadata": {},
   "outputs": [
    {
     "name": "stdout",
     "output_type": "stream",
     "text": [
      "No. of Five needed : 5\n",
      "No. of One needed  : 5\n"
     ]
    }
   ],
   "source": [
    "\n",
    "# You have x no. of 5 rupee coins and y no. of 1 rupee coins. You want to purchase an item for amount z. \n",
    "# The shopkeeper wants you to provide exact change. You want to pay using minimum number of coins. \n",
    "# How many 5 rupee coins and 1 rupee coins will you use? If exact change is not possible then display -1.def fnc(avail_1_notes,avail_5_notes,z):\n",
    "  \n",
    "def make_amount(rupees_to_make,no_of_five,no_of_one):\n",
    "    five_needed=0\n",
    "    one_needed=0\n",
    "    \n",
    "    five_needed = rupees_to_make // 5\n",
    "    one_needed = rupees_to_make-(five_needed*5)\n",
    "    \n",
    "    if five_needed <= no_of_five and one_needed <= no_of_one:\n",
    "        print(\"No. of Five needed :\", five_needed)\n",
    "        print(\"No. of One needed  :\", one_needed)\n",
    "    elif ((no_of_five - five_needed)*5) <= (no_of_one - one_needed):\n",
    "        one_needed = one_needed + ((five_needed - no_of_five)*5)\n",
    "        five_needed = no_of_five\n",
    "        if five_needed <= no_of_five and one_needed <= no_of_one:\n",
    "            print(\"No. of Five needed :\", five_needed)\n",
    "            print(\"No. of One needed  :\", one_needed)\n",
    "        else:\n",
    "            print(-1)\n",
    "    else:\n",
    "            print(-1)\n",
    "\n",
    "\n",
    "#Provide different values for rupees_to_make,no_of_five,no_of_one and test your program\n",
    "make_amount(30,5,5)    \n",
    "    \n",
    "    \n",
    "\n",
    "\n",
    "\n",
    "\n",
    "\n",
    "\n",
    "\n",
    "\n",
    "\n"
   ]
  },
  {
   "cell_type": "code",
   "execution_count": null,
   "metadata": {},
   "outputs": [],
   "source": [
    "\n",
    "\n",
    "\n",
    "\n",
    "\n"
   ]
  }
 ],
 "metadata": {
  "interpreter": {
   "hash": "aee8b7b246df8f9039afb4144a1f6fd8d2ca17a180786b69acc140d282b71a49"
  },
  "kernelspec": {
   "display_name": "Python 3",
   "language": "python",
   "name": "python3"
  },
  "language_info": {
   "codemirror_mode": {
    "name": "ipython",
    "version": 3
   },
   "file_extension": ".py",
   "mimetype": "text/x-python",
   "name": "python",
   "nbconvert_exporter": "python",
   "pygments_lexer": "ipython3",
   "version": "3.8.8"
  }
 },
 "nbformat": 4,
 "nbformat_minor": 2
}
