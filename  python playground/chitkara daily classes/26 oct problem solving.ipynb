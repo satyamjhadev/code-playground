{
 "cells": [
  {
   "cell_type": "code",
   "execution_count": 2,
   "id": "259b6e27",
   "metadata": {},
   "outputs": [
    {
     "ename": "SyntaxError",
     "evalue": "unterminated string literal (detected at line 1) (3795783372.py, line 1)",
     "output_type": "error",
     "traceback": [
      "\u001b[0;36m  File \u001b[0;32m\"/var/folders/ls/stxb71s933g79808czg7z42m0000gn/T/ipykernel_31175/3795783372.py\"\u001b[0;36m, line \u001b[0;32m1\u001b[0m\n\u001b[0;31m    print(\"your name has\",len(input(\"what is your name?\")),\"character)\u001b[0m\n\u001b[0m                                                           ^\u001b[0m\n\u001b[0;31mSyntaxError\u001b[0m\u001b[0;31m:\u001b[0m unterminated string literal (detected at line 1)\n"
     ]
    }
   ],
   "source": [
    "print(\"your name has\",len(input(\"what is your name?\")),\"characters)"
   ]
  },
  {
   "cell_type": "code",
   "execution_count": 3,
   "id": "d279aa5d",
   "metadata": {},
   "outputs": [
    {
     "name": "stdout",
     "output_type": "stream",
     "text": [
      "100\n",
      "5.7\n",
      "3.077870113881194\n"
     ]
    }
   ],
   "source": [
    "# wap that calculates the bdy mass index (bmi): Bmi=W/H**2\n",
    "\n",
    "w=int(input())\n",
    "h=float(input())\n",
    "\n",
    "BMI=w/h**2\n",
    "print(BMI)"
   ]
  },
  {
   "cell_type": "code",
   "execution_count": 6,
   "id": "beef8a00",
   "metadata": {},
   "outputs": [
    {
     "name": "stdout",
     "output_type": "stream",
     "text": [
      "18\n",
      "you have 730 days, 104 weeks and 24 months left\n"
     ]
    }
   ],
   "source": [
    "# wap using maths and f-strings that tells us how many days,weeks\n",
    "# we live  untill 90  years old.\n",
    "\n",
    "age=int(input())\n",
    "years=20-(age)\n",
    "months=round(years*12)\n",
    "weeks=round(years*52)\n",
    "days=round(years*365)\n",
    "# rounds gives us round figure \n",
    "weeks\n",
    "print(f\"you have {days} days, {weeks} weeks and {months} months left\")\n",
    "\n",
    "# f strings used above\n"
   ]
  },
  {
   "cell_type": "code",
   "execution_count": 9,
   "id": "e12dfdd1",
   "metadata": {},
   "outputs": [
    {
     "name": "stdout",
     "output_type": "stream",
     "text": [
      "1000\n",
      "3\n",
      "4\n",
      "Each will pay 257.5 amount\n"
     ]
    }
   ],
   "source": [
    "# \n",
    "\n",
    "bill=int(input())\n",
    "tip_given=int(input())\n",
    "n=int(input())\n",
    "total_bill=bill+(bill*tip_given/100)\n",
    "each_person_bill=total_bill/n\n",
    "\n",
    "print(f\"Each will pay {each_person_bill} amount\")\n",
    "\n",
    "\n"
   ]
  },
  {
   "cell_type": "code",
   "execution_count": 7,
   "id": "592b24f4",
   "metadata": {},
   "outputs": [
    {
     "ename": "SyntaxError",
     "evalue": "unterminated string literal (detected at line 4) (340308868.py, line 4)",
     "output_type": "error",
     "traceback": [
      "\u001b[0;36m  File \u001b[0;32m\"/var/folders/ls/stxb71s933g79808czg7z42m0000gn/T/ipykernel_31277/340308868.py\"\u001b[0;36m, line \u001b[0;32m4\u001b[0m\n\u001b[0;31m    names_string=input(\"give me everyboys names seprated by a comma.)\u001b[0m\n\u001b[0m                       ^\u001b[0m\n\u001b[0;31mSyntaxError\u001b[0m\u001b[0;31m:\u001b[0m unterminated string literal (detected at line 4)\n"
     ]
    }
   ],
   "source": [
    "# accept the names seprated through commas, using random one has to pay the bill\n",
    "\n",
    "import random\n",
    "names_string=input(\"give me everyboys names seprated by a comma.)\n",
    "names=names_string.split(\",\")\n",
    "num_items=len(names)\n",
    "random_choice=random.randint(0,num_list-1)\n",
    "person_who_will_pay=names[random_choice]\n",
    "print(person_who_will_pay +\"is going to buy the meal today\")\n",
    "\n",
    "\n",
    "\n"
   ]
  },
  {
   "cell_type": "code",
   "execution_count": null,
   "id": "77ceba6e",
   "metadata": {},
   "outputs": [],
   "source": [
    "# \n",
    "name_1=input()\n",
    "name_2=input()\n",
    "string=input()\n",
    "count=0\n",
    "for i in name_1 and i in string:\n",
    "    count=count+1\n",
    "    \n",
    "    \n",
    "\n",
    "\n",
    "\n",
    "\n"
   ]
  },
  {
   "cell_type": "code",
   "execution_count": null,
   "id": "5b7f4097",
   "metadata": {},
   "outputs": [],
   "source": []
  },
  {
   "cell_type": "code",
   "execution_count": null,
   "id": "069f29dd",
   "metadata": {},
   "outputs": [],
   "source": []
  }
 ],
 "metadata": {
  "kernelspec": {
   "display_name": "Python 3.9.7 64-bit",
   "language": "python",
   "name": "python397jvsc74a57bd0aee8b7b246df8f9039afb4144a1f6fd8d2ca17a180786b69acc140d282b71a49"
  },
  "language_info": {
   "codemirror_mode": {
    "name": "ipython",
    "version": 3
   },
   "file_extension": ".py",
   "mimetype": "text/x-python",
   "name": "python",
   "nbconvert_exporter": "python",
   "pygments_lexer": "ipython3",
   "version": "3.10.0"
  }
 },
 "nbformat": 4,
 "nbformat_minor": 5
}
