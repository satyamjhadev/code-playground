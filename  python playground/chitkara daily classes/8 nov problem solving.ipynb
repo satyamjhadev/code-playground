{
 "cells": [
  {
   "cell_type": "code",
   "execution_count": null,
   "id": "3397d2ab",
   "metadata": {},
   "outputs": [],
   "source": [
    "HTML is a markup language that defines the structure of your content.\n",
    "HTML consists of a series of elements, which you use to enclose, or wrap,\n",
    "different parts of the content to make it appear a certain way, or act a certain way.\n",
    "The enclosing tags can make a word or image hyperlink to somewhere else, can italicize words, \n",
    "can make the font bigger or smaller, and so on.\n",
    "For example, take the following line of content:\n",
    "\n",
    "\n",
    "\n",
    "\n",
    "\n"
   ]
  }
 ],
 "metadata": {
  "kernelspec": {
   "display_name": "Python 3.9.7 64-bit",
   "language": "python",
   "name": "python397jvsc74a57bd0aee8b7b246df8f9039afb4144a1f6fd8d2ca17a180786b69acc140d282b71a49"
  },
  "language_info": {
   "codemirror_mode": {
    "name": "ipython",
    "version": 3
   },
   "file_extension": ".py",
   "mimetype": "text/x-python",
   "name": "python",
   "nbconvert_exporter": "python",
   "pygments_lexer": "ipython3",
   "version": "3.10.0"
  }
 },
 "nbformat": 4,
 "nbformat_minor": 5
}
