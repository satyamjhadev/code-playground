{
 "cells": [
  {
   "cell_type": "code",
   "execution_count": null,
   "id": "887059b5",
   "metadata": {},
   "outputs": [],
   "source": [
    "account_number=int(input()) \n",
    "account_balance=int(input())\n",
    "salary=int(input())\n",
    "\n",
    "while salary>=25000 and account_balance>=100000:\n",
    "    print(eligible for loan)\n",
    "    if salary>=25000 and salary<=50000:\n",
    "        print(\"Give a loan of {500000} and the type of loan is {car loan}\".format(eligible_loan,loan type))\n",
    "        \n",
    "        minimum_emi_duration=37\n",
    "        emi_duration_choice=int(input())\n",
    "        if emi_duration_choice<minimum_emi_duration:\n",
    "              final_emi=emi_duration_choice\n",
    "        else:\n",
    "              final_emi=37\n",
    "        each_emi_payable=500000/37      \n",
    "        print(\"each_emi_payable\")\n",
    "    elif salary>=50000 and salary<=60000:\n",
    "        print(f'\"give a loan of {6000000} orand type of loan is {House loan}\")\n",
    "        emi_payable=int(6000000/60)\n",
    "    \n",
    "              \n",
    "\n",
    "    "
   ]
  },
  {
   "cell_type": "code",
   "execution_count": null,
   "id": "77af7fd6",
   "metadata": {},
   "outputs": [],
   "source": []
  },
  {
   "cell_type": "code",
   "execution_count": null,
   "id": "f66cc2f4",
   "metadata": {},
   "outputs": [],
   "source": [
    "Heads=int(input())\n",
    "legs=int(input())\n",
    "chicken_count=x\n",
    "chicken_legs=2*x\n",
    "rabbit_count=y\n",
    "rabbit_legs=4*y\n",
    "heads=\n",
    "\n",
    "\n",
    "\n",
    "\n",
    "\n",
    "\n"
   ]
  },
  {
   "cell_type": "code",
   "execution_count": null,
   "id": "b4ee07fc",
   "metadata": {},
   "outputs": [],
   "source": [
    "x=int(input())\n",
    "y=int(input())\n",
    "if 2*x+4*y==400 and x+y==150:\n",
    "    print(y)\n",
    "\n"
   ]
  },
  {
   "cell_type": "code",
   "execution_count": null,
   "id": "023db423",
   "metadata": {},
   "outputs": [],
   "source": [
    "n1=[]\n",
    "n2=[]\n",
    "for i in n1 and n2:\n",
    "    if len(str(i))==2:\n",
    "        if i%3==0 and i%5==0:\n",
    "        \n",
    "lst={[n1],[n2]}\n",
    "\n",
    "\n",
    "\n",
    "\n"
   ]
  },
  {
   "cell_type": "code",
   "execution_count": null,
   "id": "6c3f5cc0",
   "metadata": {},
   "outputs": [],
   "source": []
  },
  {
   "cell_type": "code",
   "execution_count": null,
   "id": "09c65aea",
   "metadata": {},
   "outputs": [],
   "source": []
  }
 ],
 "metadata": {
  "kernelspec": {
   "display_name": "Python 3.9.7 64-bit",
   "language": "python",
   "name": "python397jvsc74a57bd0aee8b7b246df8f9039afb4144a1f6fd8d2ca17a180786b69acc140d282b71a49"
  },
  "language_info": {
   "codemirror_mode": {
    "name": "ipython",
    "version": 3
   },
   "file_extension": ".py",
   "mimetype": "text/x-python",
   "name": "python",
   "nbconvert_exporter": "python",
   "pygments_lexer": "ipython3",
   "version": "3.10.0"
  }
 },
 "nbformat": 4,
 "nbformat_minor": 5
}
