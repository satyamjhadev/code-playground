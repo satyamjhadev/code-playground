{
 "cells": [
  {
   "cell_type": "code",
   "execution_count": 3,
   "metadata": {},
   "outputs": [
    {
     "name": "stdout",
     "output_type": "stream",
     "text": [
      "{'SQL', 'R', 'SAS', 'python'}\n"
     ]
    }
   ],
   "source": [
    "empty_set=set()\n",
    "data_scientist=set(['python','R', 'SQL', 'SAS', 'python' ])\n",
    "print(data_scientist)"
   ]
  },
  {
   "cell_type": "markdown",
   "metadata": {},
   "source": [
    "1. sets ouput will be unordered\n",
    "2. it's removes the duplicate items."
   ]
  },
  {
   "cell_type": "code",
   "execution_count": 4,
   "metadata": {},
   "outputs": [
    {
     "name": "stdout",
     "output_type": "stream",
     "text": [
      "{'photoshop', 'illustrator', 'acrobat', 'premiere', 'indesign', 'blender'}\n"
     ]
    }
   ],
   "source": [
    "gd={'indesign', 'photoshop','blender', \"premiere\", \"acrobat\"}\n",
    "gd.add('illustrator')\n",
    "print(gd)\n",
    "gd.add('illustrator')\n"
   ]
  },
  {
   "cell_type": "markdown",
   "metadata": {},
   "source": [
    "1. in set we can only add only immutable(like string,tuples), 4. we can't add mutable object like list in a set. \n",
    "set is mutttable,we can add and remove the values from the sets."
   ]
  },
  {
   "cell_type": "code",
   "execution_count": 8,
   "metadata": {},
   "outputs": [
    {
     "name": "stdout",
     "output_type": "stream",
     "text": [
      "{'photoshop', 'illustrator', 'acrobat', 'premiere', 'indesign', 'blender'}\n",
      "{'photoshop', 'acrobat', 'premiere', 'indesign', 'blender'}\n"
     ]
    },
    {
     "ename": "KeyError",
     "evalue": "'illustrator'",
     "output_type": "error",
     "traceback": [
      "\u001b[0;31m---------------------------------------------------------------------------\u001b[0m",
      "\u001b[0;31mKeyError\u001b[0m                                  Traceback (most recent call last)",
      "\u001b[0;32m/var/folders/ls/stxb71s933g79808czg7z42m0000gn/T/ipykernel_16052/2214953397.py\u001b[0m in \u001b[0;36m<module>\u001b[0;34m\u001b[0m\n\u001b[1;32m      6\u001b[0m \u001b[0mgd\u001b[0m\u001b[0;34m.\u001b[0m\u001b[0mremove\u001b[0m\u001b[0;34m(\u001b[0m\u001b[0;34m'illustrator'\u001b[0m\u001b[0;34m)\u001b[0m\u001b[0;34m\u001b[0m\u001b[0;34m\u001b[0m\u001b[0m\n\u001b[1;32m      7\u001b[0m \u001b[0mprint\u001b[0m\u001b[0;34m(\u001b[0m\u001b[0mgd\u001b[0m\u001b[0;34m)\u001b[0m\u001b[0;34m\u001b[0m\u001b[0;34m\u001b[0m\u001b[0m\n\u001b[0;32m----> 8\u001b[0;31m \u001b[0mgd\u001b[0m\u001b[0;34m.\u001b[0m\u001b[0mremove\u001b[0m\u001b[0;34m(\u001b[0m\u001b[0;34m'illustrator'\u001b[0m\u001b[0;34m)\u001b[0m\u001b[0;34m\u001b[0m\u001b[0;34m\u001b[0m\u001b[0m\n\u001b[0m",
      "\u001b[0;31mKeyError\u001b[0m: 'illustrator'"
     ]
    }
   ],
   "source": [
    "gd={'indesign', 'photoshop','blender', \"premiere\", \"acrobat\"}\n",
    "gd.add('illustrator')\n",
    "print(gd)\n",
    "gd.add('illustrator')\n",
    "\n",
    "gd.remove('illustrator')\n",
    "print(gd)\n",
    "gd.remove('illustrator')"
   ]
  },
  {
   "cell_type": "markdown",
   "metadata": {},
   "source": [
    "5. if we try to remove a value that's not in our set we get a keyerror so we will using discard"
   ]
  },
  {
   "cell_type": "code",
   "execution_count": 10,
   "metadata": {},
   "outputs": [
    {
     "name": "stdout",
     "output_type": "stream",
     "text": [
      "{'photoshop', 'illustrator', 'acrobat', 'premiere', 'indesign', 'blender'}\n",
      "{'photoshop', 'acrobat', 'premiere', 'indesign', 'blender'}\n",
      "{'photoshop', 'acrobat', 'indesign', 'blender'}\n",
      "{'photoshop', 'acrobat', 'indesign', 'blender'}\n"
     ]
    }
   ],
   "source": [
    "gd={'indesign', 'photoshop','blender', \"premiere\", \"acrobat\"}\n",
    "gd.add('illustrator')\n",
    "print(gd)\n",
    "gd.add('illustrator')\n",
    "\n",
    "gd.remove('illustrator')\n",
    "print(gd)\n",
    "gd.discard('premiere')\n",
    "print(gd)\n",
    "gd.discard('premiere')\n",
    "print(gd)"
   ]
  },
  {
   "cell_type": "markdown",
   "metadata": {},
   "source": [
    "6. we are not getting any error with again running the discard.\n",
    "7. we can also use pop method to remove and return an arbitary value from set and it can remove any value bcz there's no order in set.unlike in set we can use pop method to remove a particular items."
   ]
  },
  {
   "cell_type": "code",
   "execution_count": 1,
   "metadata": {},
   "outputs": [
    {
     "name": "stdout",
     "output_type": "stream",
     "text": [
      "{'premiere', 'blender', 'acrobat', 'indesign', 'illustrator', 'photoshop'}\n",
      "{'premiere', 'blender', 'acrobat', 'indesign', 'photoshop'}\n",
      "{'blender', 'acrobat', 'indesign', 'photoshop'}\n",
      "{'blender', 'acrobat', 'indesign', 'photoshop'}\n",
      "None\n"
     ]
    }
   ],
   "source": [
    "gd={'indesign', 'photoshop','blender', \"premiere\", \"acrobat\"}\n",
    "gd.add('illustrator')\n",
    "print(gd)\n",
    "gd.add('illustrator')\n",
    "\n",
    "gd.remove('illustrator')\n",
    "print(gd)\n",
    "gd.discard('premiere')\n",
    "print(gd)\n",
    "gd.discard('premiere')\n",
    "print(gd)\n",
    "\n",
    "\n",
    "print(gd.clear())"
   ]
  },
  {
   "cell_type": "markdown",
   "metadata": {},
   "source": [
    "8. gd.clear clear all the value from the set."
   ]
  },
  {
   "cell_type": "code",
   "execution_count": 2,
   "metadata": {},
   "outputs": [
    {
     "name": "stdout",
     "output_type": "stream",
     "text": [
      "GIT\n",
      "Tablue\n",
      "SQL\n",
      "R\n",
      "SAS\n",
      "python\n"
     ]
    }
   ],
   "source": [
    "data_scientist={'python', 'R', \"SQL\",'GIT','Tablue',\"SAS\" }\n",
    "\n",
    "for skill in data_scientist:\n",
    "    print(skill)\n"
   ]
  },
  {
   "cell_type": "markdown",
   "metadata": {},
   "source": [
    "9. we can make the order of set in order with (sorted function) (acending order) which outputs a list that is ordered."
   ]
  },
  {
   "cell_type": "code",
   "execution_count": 3,
   "metadata": {},
   "outputs": [
    {
     "name": "stdout",
     "output_type": "stream",
     "text": [
      "<class 'list'>\n",
      "['GIT', 'R', 'SAS', 'SQL', 'Tablue', 'python']\n"
     ]
    }
   ],
   "source": [
    "print(type(sorted(data_scientist)))\n",
    "print(sorted(data_scientist))"
   ]
  },
  {
   "cell_type": "code",
   "execution_count": 4,
   "metadata": {},
   "outputs": [
    {
     "name": "stdout",
     "output_type": "stream",
     "text": [
      "['python', 'Tablue', 'SQL', 'SAS', 'R', 'GIT']\n"
     ]
    }
   ],
   "source": [
    "print(sorted(data_scientist, reverse=True))"
   ]
  },
  {
   "cell_type": "markdown",
   "metadata": {},
   "source": [
    "10. reverse=True makes sorted set in descending alphabetical order."
   ]
  },
  {
   "cell_type": "markdown",
   "metadata": {},
   "source": [
    "set comprehension\n"
   ]
  },
  {
   "cell_type": "code",
   "execution_count": 8,
   "metadata": {},
   "outputs": [
    {
     "ename": "SyntaxError",
     "evalue": "unterminated string literal (detected at line 1) (146261486.py, line 1)",
     "output_type": "error",
     "traceback": [
      "\u001b[0;36m  File \u001b[0;32m\"/var/folders/ls/stxb71s933g79808czg7z42m0000gn/T/ipykernel_16164/146261486.py\"\u001b[0;36m, line \u001b[0;32m1\u001b[0m\n\u001b[0;31m    print({skill for skill in [\"GIT\", \"PYTHON\", \"SQL\"] if skill not in {\"GIT\",\"PYTHON\",\"JAVA,\"sql\"})\u001b[0m\n\u001b[0m                                                                                                 ^\u001b[0m\n\u001b[0;31mSyntaxError\u001b[0m\u001b[0;31m:\u001b[0m unterminated string literal (detected at line 1)\n"
     ]
    }
   ],
   "source": [
    "print({skill for skill in [\"GIT\", \"PYTHON\", \"SQL\"] if skill not in {\"GIT\",\"PYTHON\",\"JAVA,\"sql\"})"
   ]
  }
 ],
 "metadata": {
  "interpreter": {
   "hash": "aee8b7b246df8f9039afb4144a1f6fd8d2ca17a180786b69acc140d282b71a49"
  },
  "kernelspec": {
   "display_name": "Python 3.10.0 64-bit",
   "name": "python3"
  },
  "language_info": {
   "codemirror_mode": {
    "name": "ipython",
    "version": 3
   },
   "file_extension": ".py",
   "mimetype": "text/x-python",
   "name": "python",
   "nbconvert_exporter": "python",
   "pygments_lexer": "ipython3",
   "version": "3.10.0"
  },
  "orig_nbformat": 4
 },
 "nbformat": 4,
 "nbformat_minor": 2
}
