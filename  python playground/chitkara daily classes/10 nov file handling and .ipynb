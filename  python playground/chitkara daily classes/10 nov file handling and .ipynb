{
 "cells": [
  {
   "cell_type": "code",
   "execution_count": 9,
   "id": "3687bb80",
   "metadata": {},
   "outputs": [
    {
     "name": "stdout",
     "output_type": "stream",
     "text": [
      "it is my first file\n",
      "This file\n",
      "contains three lines\n",
      "\n",
      "read string is : it is my f\n",
      "read string is : irst \n",
      "again read string is: it is my first file\n"
     ]
    }
   ],
   "source": [
    "with open(\"app1.log\",'w+') as f:\n",
    "    f.write('it is my first file\\n')\n",
    "    f.write('This file\\n')\n",
    "    \n",
    "    f.write('contains three lines\\n')\n",
    "    \n",
    "    \n",
    "    f.seek(0); # seek takes us to beginiing of the file.\n",
    "\n",
    "    print(f.read())\n",
    "    \n",
    "    f.seek(0);\n",
    "    data=f.read(10);\n",
    "    print('read string is :' ,data)\n",
    "    \n",
    "    data=f.read(5);\n",
    "    print('read string is :' ,data)  # it will read from current location.\n",
    "    \n",
    "    f.seek(0);\n",
    "   \n",
    "    data=f.read(19);\n",
    "    print('again read string is:',data)\n",
    "\n",
    "    \n",
    "    \n",
    "    \n",
    "    "
   ]
  },
  {
   "cell_type": "code",
   "execution_count": 11,
   "id": "0396bb98",
   "metadata": {},
   "outputs": [
    {
     "ename": "FileNotFoundError",
     "evalue": "[Errno 2] No such file or directory: 'desktop/github'",
     "output_type": "error",
     "traceback": [
      "\u001b[0;31m---------------------------------------------------------------------------\u001b[0m",
      "\u001b[0;31mFileNotFoundError\u001b[0m                         Traceback (most recent call last)",
      "\u001b[0;32m/var/folders/ls/stxb71s933g79808czg7z42m0000gn/T/ipykernel_10728/1374280322.py\u001b[0m in \u001b[0;36m<module>\u001b[0;34m\u001b[0m\n\u001b[1;32m      1\u001b[0m \u001b[0;32mimport\u001b[0m \u001b[0mos\u001b[0m\u001b[0;34m\u001b[0m\u001b[0;34m\u001b[0m\u001b[0m\n\u001b[0;32m----> 2\u001b[0;31m \u001b[0mprint\u001b[0m\u001b[0;34m(\u001b[0m\u001b[0mos\u001b[0m\u001b[0;34m.\u001b[0m\u001b[0mlistdir\u001b[0m\u001b[0;34m(\u001b[0m\u001b[0;34m'desktop/github'\u001b[0m\u001b[0;34m)\u001b[0m\u001b[0;34m)\u001b[0m\u001b[0;34m\u001b[0m\u001b[0;34m\u001b[0m\u001b[0m\n\u001b[0m\u001b[1;32m      3\u001b[0m \u001b[0;34m\u001b[0m\u001b[0m\n\u001b[1;32m      4\u001b[0m \u001b[0;34m\u001b[0m\u001b[0m\n\u001b[1;32m      5\u001b[0m \u001b[0;34m\u001b[0m\u001b[0m\n",
      "\u001b[0;31mFileNotFoundError\u001b[0m: [Errno 2] No such file or directory: 'desktop/github'"
     ]
    }
   ],
   "source": [
    "import os\n",
    "print(os.listdir('desktop/github'))\n",
    "\n",
    "\n",
    "\n",
    "\n"
   ]
  },
  {
   "cell_type": "code",
   "execution_count": 24,
   "id": "66b72979",
   "metadata": {},
   "outputs": [
    {
     "name": "stdout",
     "output_type": "stream",
     "text": [
      "['important concept', '.DS_Store', 'youtube tutorial codes practise', 'README.md', 'chitkara daily classes']\n",
      "['important concept', '.DS_Store', 'youtube tutorial codes practise', 'README.md', 'chitkara daily classes']\n",
      "['important concept', '.DS_Store', 'youtube tutorial codes practise', 'README.md', 'chitkara daily classes']\n",
      "['important concept', '.DS_Store', 'youtube tutorial codes practise', 'README.md', 'chitkara daily classes']\n",
      "['important concept', '.DS_Store', 'youtube tutorial codes practise', 'README.md', 'chitkara daily classes']\n"
     ]
    }
   ],
   "source": [
    "c=os.listdir('/Users/satyamjha/Desktop/GitHub/code-playground/ python playground')\n",
    "for i in c:\n",
    "    print(c)"
   ]
  },
  {
   "cell_type": "code",
   "execution_count": 22,
   "id": "c3bc99d6",
   "metadata": {},
   "outputs": [],
   "source": [
    "import os\n",
    "\n",
    "# get .txt files\n",
    "\n",
    "for f_name in os.listdir('/Users/satyamjha/Desktop/GitHub/code-playground/ python playground'):\n",
    "    if f_name.endswith('.ipynb'):\n",
    "        print(f_name)"
   ]
  },
  {
   "cell_type": "code",
   "execution_count": 25,
   "id": "a7eb7a35",
   "metadata": {},
   "outputs": [
    {
     "name": "stdout",
     "output_type": "stream",
     "text": [
      "Hello universe!\n"
     ]
    }
   ],
   "source": [
    "from tempfile import TemporaryFile\n",
    "# create a temp file and write some data to it\n",
    "# by default it's a txt or we can use binary file.\n",
    "\n",
    "fp=TemporaryFile('w+t')\n",
    "fp.write('Hello universe!')\n",
    "\n",
    "#go back to the beginning and read data from file\n",
    "\n",
    "fp.seek(0)\n",
    "\n",
    "data=fp.read()\n",
    "print(data)\n",
    "\n",
    "#close the file,after which it will be removed.\n",
    "\n",
    "fp.close()"
   ]
  },
  {
   "cell_type": "code",
   "execution_count": 26,
   "id": "73d800e9",
   "metadata": {},
   "outputs": [
    {
     "name": "stdout",
     "output_type": "stream",
     "text": [
      "Hello universe!\n"
     ]
    }
   ],
   "source": [
    "with TemporaryFile('w+t') as fp:\n",
    "    fp.write('Hello universe!')\n",
    "    fp.seek(0)\n",
    "    print(fp.read())\n",
    "    \n",
    "# file is closed and removed \n",
    "\n",
    "\n",
    "\n"
   ]
  },
  {
   "cell_type": "code",
   "execution_count": 28,
   "id": "0f0ab39c",
   "metadata": {},
   "outputs": [
    {
     "name": "stdout",
     "output_type": "stream",
     "text": [
      "Error:/Users/satyamjha/Desktop/GitHub/code-playground/ python playground/satyam.txt not a valid filename\n"
     ]
    }
   ],
   "source": [
    "import os\n",
    "data_file='/Users/satyamjha/Desktop/GitHub/code-playground/ python playground/satyam.txt'\n",
    "if os.path.isfile(data_file):\n",
    "    os.remove(data_file)\n",
    "else:\n",
    "    print(f'Error:{data_file} not a valid filename')\n",
    "    \n",
    "\n",
    "\n"
   ]
  },
  {
   "cell_type": "code",
   "execution_count": 34,
   "id": "c307a93d",
   "metadata": {},
   "outputs": [
    {
     "name": "stdout",
     "output_type": "stream",
     "text": [
      "Error:/Users/satyamjha/Desktop/GitHub/temp:Directory not empty\n"
     ]
    }
   ],
   "source": [
    "import os\n",
    "a='/Users/satyamjha/Desktop/GitHub/temp'\n",
    "\n",
    "try:\n",
    "    os.rmdir(a)\n",
    "except OSError as e:\n",
    "    print(f'Error:{a}:{e.strerror}')\n",
    "\n",
    "\n",
    "\n",
    "# it will give a error when the directory is not empty.\n"
   ]
  },
  {
   "cell_type": "code",
   "execution_count": 35,
   "id": "b53320e0",
   "metadata": {},
   "outputs": [],
   "source": [
    "import os\n",
    "a='/Users/satyamjha/Desktop/GitHub/temp2'\n",
    "\n",
    "try:\n",
    "    os.rmdir(a)\n",
    "except OSError as e:\n",
    "    print(f'Error:{a}:{e.strerror}')\n"
   ]
  },
  {
   "cell_type": "code",
   "execution_count": 36,
   "id": "1905a833",
   "metadata": {},
   "outputs": [],
   "source": [
    "import shutil\n",
    "a='/Users/satyamjha/Desktop/GitHub/temp'\n",
    "\n",
    "try:\n",
    "    shutil.rmtree(a)\n",
    "except OSError as e:\n",
    "    print(f'Error:{a}:{e.strerror}')\n"
   ]
  },
  {
   "cell_type": "code",
   "execution_count": null,
   "id": "13b291c6",
   "metadata": {},
   "outputs": [],
   "source": []
  }
 ],
 "metadata": {
  "kernelspec": {
   "display_name": "Python 3.9.7 64-bit",
   "language": "python",
   "name": "python397jvsc74a57bd0aee8b7b246df8f9039afb4144a1f6fd8d2ca17a180786b69acc140d282b71a49"
  },
  "language_info": {
   "codemirror_mode": {
    "name": "ipython",
    "version": 3
   },
   "file_extension": ".py",
   "mimetype": "text/x-python",
   "name": "python",
   "nbconvert_exporter": "python",
   "pygments_lexer": "ipython3",
   "version": "3.10.0"
  }
 },
 "nbformat": 4,
 "nbformat_minor": 5
}
