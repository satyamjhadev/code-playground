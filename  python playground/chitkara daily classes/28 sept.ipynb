{
 "cells": [
  {
   "cell_type": "code",
   "execution_count": 3,
   "id": "d8f1a3e8",
   "metadata": {},
   "outputs": [
    {
     "name": "stdout",
     "output_type": "stream",
     "text": [
      "3\n",
      "8 7 9\n",
      "24\n"
     ]
    }
   ],
   "source": [
    "#array sum coding ninja\n",
    "n=int(input())\n",
    "li=[int(x) for x in input().split()]\n",
    "sum=0\n",
    "for i in range(n):\n",
    "    sum=sum+li[i]\n",
    "print(sum)    \n",
    "\n",
    "\n"
   ]
  },
  {
   "cell_type": "code",
   "execution_count": null,
   "id": "f7db4f25",
   "metadata": {},
   "outputs": [],
   "source": [
    "l=[int(x) for i in input().split()]\n",
    "s=0\n",
    "n=len(l)\n",
    "for i in range (n):\n",
    "    s=s+l(i)\n",
    "print(l)    "
   ]
  },
  {
   "cell_type": "code",
   "execution_count": 1,
   "id": "e543a3d9",
   "metadata": {},
   "outputs": [
    {
     "name": "stdout",
     "output_type": "stream",
     "text": [
      "Coding Ninjas\n",
      "Coding Ninjas\n",
      "Coding Ninjas\n",
      "Coding Ninjas\n"
     ]
    }
   ],
   "source": [
    "for i in range(4):\n",
    "   print(\"Coding Ninjas\")\n",
    "\n"
   ]
  },
  {
   "cell_type": "code",
   "execution_count": 3,
   "id": "1abfd96b",
   "metadata": {},
   "outputs": [
    {
     "ename": "IndentationError",
     "evalue": "unindent does not match any outer indentation level (<tokenize>, line 5)",
     "output_type": "error",
     "traceback": [
      "\u001b[0;36m  File \u001b[0;32m\"<tokenize>\"\u001b[0;36m, line \u001b[0;32m5\u001b[0m\n\u001b[0;31m    print(a)\u001b[0m\n\u001b[0m    ^\u001b[0m\n\u001b[0;31mIndentationError\u001b[0m\u001b[0;31m:\u001b[0m unindent does not match any outer indentation level\n"
     ]
    }
   ],
   "source": [
    "a = 0\n",
    "for i in range(10):\n",
    "     for j in range(-1, -10, -1):\n",
    "         a += 1\n",
    " print(a)a = 0\n",
    "for i in range(10):\n",
    "     for j in range(-1, -10, -1):\n",
    "         a += 1\n",
    " print(a)\n",
    "\n",
    "\n",
    "\n"
   ]
  },
  {
   "cell_type": "code",
   "execution_count": 5,
   "id": "97d8ca59",
   "metadata": {},
   "outputs": [
    {
     "ename": "IndentationError",
     "evalue": "unindent does not match any outer indentation level (<tokenize>, line 5)",
     "output_type": "error",
     "traceback": [
      "\u001b[0;36m  File \u001b[0;32m\"<tokenize>\"\u001b[0;36m, line \u001b[0;32m5\u001b[0m\n\u001b[0;31m    print(a)\u001b[0m\n\u001b[0m    ^\u001b[0m\n\u001b[0;31mIndentationError\u001b[0m\u001b[0;31m:\u001b[0m unindent does not match any outer indentation level\n"
     ]
    }
   ],
   "source": [
    "a = 0\n",
    "for i in range(10):\n",
    "     for j in range(-1, -10, -1):\n",
    "         a += 1\n",
    " print(a)\n",
    "\n"
   ]
  },
  {
   "cell_type": "code",
   "execution_count": 6,
   "id": "4276d152",
   "metadata": {},
   "outputs": [
    {
     "name": "stdout",
     "output_type": "stream",
     "text": [
      "90\n"
     ]
    }
   ],
   "source": [
    "a = 0\n",
    "for i in range(10):\n",
    "     for j in range(-1, -10, -1):\n",
    "         a += 1\n",
    "print(a)"
   ]
  },
  {
   "cell_type": "code",
   "execution_count": null,
   "id": "4ad4d671",
   "metadata": {},
   "outputs": [],
   "source": [
    "x = 1  \n",
    "while True:  \n",
    "    while False:\n",
    "        while True:\n",
    "            if x % 5 == 0:  \n",
    "                break  \n",
    "            print(x)   \n",
    "            x += 1\n"
   ]
  },
  {
   "cell_type": "code",
   "execution_count": null,
   "id": "da6adba7",
   "metadata": {},
   "outputs": [],
   "source": [
    "x = 1  \n",
    "while True:  \n",
    "    while False:\n",
    "        while True:\n",
    "            if x % 5 == 0:  \n",
    "                break  \n",
    "            print(x)   \n",
    "            x += 1"
   ]
  },
  {
   "cell_type": "code",
   "execution_count": null,
   "id": "2c788e23",
   "metadata": {},
   "outputs": [],
   "source": [
    "x = 1  \n",
    "while 27 - 23:\n",
    "    while True and True or True and False or False:  \n",
    "        print(x, end=\"\")\n",
    "        if x == 1:\n",
    "            break\n",
    "    print(x + 9)\n",
    "    if (x == 1):\n",
    "        break\n"
   ]
  },
  {
   "cell_type": "code",
   "execution_count": null,
   "id": "1a097f83",
   "metadata": {},
   "outputs": [],
   "source": [
    "#swap alternate\n",
    "\n",
    "\n",
    "\n",
    "\n",
    "\n",
    "\n",
    "\n"
   ]
  },
  {
   "cell_type": "code",
   "execution_count": null,
   "id": "5e36f83a",
   "metadata": {},
   "outputs": [],
   "source": []
  },
  {
   "cell_type": "code",
   "execution_count": null,
   "id": "c3d8e990",
   "metadata": {},
   "outputs": [],
   "source": []
  },
  {
   "cell_type": "code",
   "execution_count": null,
   "id": "14a5bbba",
   "metadata": {},
   "outputs": [],
   "source": []
  },
  {
   "cell_type": "code",
   "execution_count": null,
   "id": "a6b3d1d3",
   "metadata": {},
   "outputs": [],
   "source": []
  },
  {
   "cell_type": "code",
   "execution_count": null,
   "id": "38096656",
   "metadata": {},
   "outputs": [],
   "source": []
  },
  {
   "cell_type": "code",
   "execution_count": 6,
   "id": "b3af41e8",
   "metadata": {},
   "outputs": [],
   "source": [
    "#find unique\n",
    "def findunique(arr,n):\n",
    "    for i in range(n):\n",
    "        j=0\n",
    "        while j<n:\n",
    "            if i != j:\n",
    "                if arr[i]==arr[j]:\n",
    "                    break\n",
    "            j =j+1\n",
    "            \n",
    "        if j == n:\n",
    "            return arr[i]\n",
    "\n",
    "\n"
   ]
  },
  {
   "cell_type": "code",
   "execution_count": null,
   "id": "ba016e92",
   "metadata": {},
   "outputs": [],
   "source": [
    "#finding duplicates\n",
    "def duplicatenumber(arr,n):\n",
    "    \n",
    "    \n",
    "    for i in range(0,n):\n",
    "        for j in \n",
    "\n",
    "\n",
    "\n",
    "\n"
   ]
  }
 ],
 "metadata": {
  "kernelspec": {
   "display_name": "Python 3.9.7 64-bit",
   "language": "python",
   "name": "python397jvsc74a57bd0aee8b7b246df8f9039afb4144a1f6fd8d2ca17a180786b69acc140d282b71a49"
  },
  "language_info": {
   "codemirror_mode": {
    "name": "ipython",
    "version": 3
   },
   "file_extension": ".py",
   "mimetype": "text/x-python",
   "name": "python",
   "nbconvert_exporter": "python",
   "pygments_lexer": "ipython3",
   "version": "3.9.7"
  }
 },
 "nbformat": 4,
 "nbformat_minor": 5
}
