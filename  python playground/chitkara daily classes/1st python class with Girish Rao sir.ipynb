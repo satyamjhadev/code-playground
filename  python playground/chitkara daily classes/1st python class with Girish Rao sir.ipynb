{
 "cells": [
  {
   "cell_type": "markdown",
   "id": "801e47f6",
   "metadata": {},
   "source": [
    "###basics\n"
   ]
  },
  {
   "cell_type": "code",
   "execution_count": null,
   "id": "f8ee336a",
   "metadata": {},
   "outputs": [],
   "source": [
    "print('welcome to coding first class');\n",
    "\n"
   ]
  },
  {
   "cell_type": "code",
   "execution_count": null,
   "id": "4e151a9c",
   "metadata": {},
   "outputs": [],
   "source": [
    "note"
   ]
  },
  {
   "cell_type": "code",
   "execution_count": null,
   "id": "445780ae",
   "metadata": {},
   "outputs": [],
   "source": [
    "i=1\n",
    "while i "
   ]
  },
  {
   "cell_type": "code",
   "execution_count": null,
   "id": "d5dedfda",
   "metadata": {},
   "outputs": [],
   "source": [
    "print('welcome to programming world  ')"
   ]
  },
  {
   "cell_type": "code",
   "execution_count": null,
   "id": "47955fe2",
   "metadata": {},
   "outputs": [],
   "source": [
    "printf('welcome')"
   ]
  },
  {
   "cell_type": "code",
   "execution_count": null,
   "id": "e2421870",
   "metadata": {},
   "outputs": [],
   "source": [
    "print('welcome \\'to\\'' program')"
   ]
  },
  {
   "cell_type": "code",
   "execution_count": null,
   "id": "f1ea3399",
   "metadata": {},
   "outputs": [],
   "source": [
    "print(welcome /\"to/\" programming\")"
   ]
  },
  {
   "cell_type": "code",
   "execution_count": null,
   "id": "cd7211c4",
   "metadata": {},
   "outputs": [],
   "source": [
    "print(\"\\to\\\")"
   ]
  },
  {
   "cell_type": "code",
   "execution_count": null,
   "id": "0be43f3f",
   "metadata": {},
   "outputs": [],
   "source": [
    "a=10\n",
    "print(a)\n",
    "print(id(a))\n",
    "print(type(a))"
   ]
  },
  {
   "cell_type": "code",
   "execution_count": null,
   "id": "f7492818",
   "metadata": {},
   "outputs": [],
   "source": [
    "a=a\n",
    "print(a)"
   ]
  },
  {
   "cell_type": "code",
   "execution_count": null,
   "id": "1b5c2670",
   "metadata": {},
   "outputs": [],
   "source": [
    "a=a+b\n",
    "b=a\n",
    "print(a)\n"
   ]
  },
  {
   "cell_type": "code",
   "execution_count": null,
   "id": "096be405",
   "metadata": {},
   "outputs": [],
   "source": [
    "a=1\n",
    "b=10\n",
    "c=a+b\n",
    "print(c)\n",
    "print(id(c\n",
    "))"
   ]
  },
  {
   "cell_type": "code",
   "execution_count": null,
   "id": "e1e5ddf2",
   "metadata": {},
   "outputs": [],
   "source": [
    "print(-7*20+8/16*2+54)"
   ]
  },
  {
   "cell_type": "code",
   "execution_count": null,
   "id": "9dcd35fc",
   "metadata": {},
   "outputs": [],
   "source": [
    "print(7**2//9%3)"
   ]
  },
  {
   "cell_type": "code",
   "execution_count": null,
   "id": "35906e02",
   "metadata": {},
   "outputs": [],
   "source": [
    "#wap to accept amount ,rate,year and calcutate si\n",
    "p=int(input(\"enter amount\"))\n",
    "r=float(input(\"input rate of interest\"))\n",
    "t=int(input(\"enter time\"))\n",
    "si=p*r*t/100\n",
    "print(\"simple intrest:.{}\".format(si))\n",
    "      "
   ]
  },
  {
   "cell_type": "code",
   "execution_count": null,
   "id": "317258fe",
   "metadata": {},
   "outputs": [],
   "source": [
    "#accept temp in f and convert it into c\n",
    "f=float(input())\n",
    "c=(f-32)*5/9\n",
    "print(\"{} f is {: .2f} celcius\".format(f,c))"
   ]
  },
  {
   "cell_type": "code",
   "execution_count": null,
   "id": "08f0e3a2",
   "metadata": {},
   "outputs": [],
   "source": [
    "...\n",
    "wap to calculate area and volume of cylinder\n",
    "area=radius**2*pi\n",
    "volume=area * lenght\n",
    "\n",
    "\n",
    "\n",
    "..."
   ]
  },
  {
   "cell_type": "code",
   "execution_count": null,
   "id": "d325fa0a",
   "metadata": {},
   "outputs": [],
   "source": [
    "cgpa=float(input())\n",
    "if cgpa>=9:\n",
    "    print(\"e\")"
   ]
  },
  {
   "cell_type": "code",
   "execution_count": null,
   "id": "ced0d6df",
   "metadata": {},
   "outputs": [],
   "source": [
    "a=10.53\n",
    "print(a)"
   ]
  },
  {
   "cell_type": "code",
   "execution_count": null,
   "id": "27567e77",
   "metadata": {},
   "outputs": [],
   "source": [
    "a=12.44\n",
    "print(a)\n",
    "print(id(a))\n",
    "print(type(a))\n"
   ]
  },
  {
   "cell_type": "code",
   "execution_count": null,
   "id": "a043ccb4",
   "metadata": {},
   "outputs": [],
   "source": [
    "a=10\n",
    "print(a)"
   ]
  },
  {
   "cell_type": "code",
   "execution_count": null,
   "id": "31b6f46b",
   "metadata": {},
   "outputs": [],
   "source": [
    "a=10\n",
    "print(a)\n",
    "a=a+1\n",
    "print(a)\n",
    "\n"
   ]
  },
  {
   "cell_type": "code",
   "execution_count": null,
   "id": "09371928",
   "metadata": {},
   "outputs": [],
   "source": [
    "sum=0\n",
    "n=int(input())\n",
    "for i in range (i,i+1)\n",
    "    sum = sum+1\n",
    "\n",
    "print(sum)"
   ]
  },
  {
   "cell_type": "code",
   "execution_count": null,
   "id": "99f94d31",
   "metadata": {},
   "outputs": [],
   "source": [
    "#using foor loop\n",
    "n=int(input())"
   ]
  },
  {
   "cell_type": "code",
   "execution_count": 28,
   "id": "5883c175",
   "metadata": {},
   "outputs": [
    {
     "ename": "SyntaxError",
     "evalue": "invalid syntax (3379659443.py, line 8)",
     "output_type": "error",
     "traceback": [
      "\u001b[0;36m  File \u001b[0;32m\"/var/folders/ls/stxb71s933g79808czg7z42m0000gn/T/ipykernel_9914/3379659443.py\"\u001b[0;36m, line \u001b[0;32m8\u001b[0m\n\u001b[0;31m    elif c == 2:\u001b[0m\n\u001b[0m    ^\u001b[0m\n\u001b[0;31mSyntaxError\u001b[0m\u001b[0;31m:\u001b[0m invalid syntax\n"
     ]
    }
   ],
   "source": [
    "c=int(input())\n",
    "n=int(input())\n",
    "if c == 1:\n",
    "    sum=0\n",
    "for i in range(1,n+1):\n",
    "    sum=sum+1\n",
    "    print(sum)\n",
    "elif c == 2:\n",
    "    print(sum)  \n",
    "product=1\n",
    "for i in range (1,n+1)\n",
    "product == product*i\n",
    "print(product)\n",
    "else:\n",
    "    print(-1)\n",
    "\n"
   ]
  },
  {
   "cell_type": "code",
   "execution_count": null,
   "id": "64030064",
   "metadata": {},
   "outputs": [],
   "source": [
    "c= int(input())\n",
    "if c==1:\n",
    "    n=int(input(\"input number for sum of digits \\n\"))\n",
    "    sum=0\n",
    "    while n>0:\n",
    "        k = int(n%10)\n",
    "        sum+=k\n",
    "        n=int(n/10)\n",
    "    print(sum)\n",
    "elif c==2:\n",
    "    n=int(input(input number for product of digits \\n))\n",
    "    pro=1\n",
    "    while n>0:\n",
    "        k = int(n%10)\n",
    "        pro*=k\n",
    "        n=int(n/10)\n",
    "    print(pro)\n",
    "else:\n",
    "    print(\"-1\")"
   ]
  },
  {
   "cell_type": "code",
   "execution_count": 2,
   "id": "a6c5a1cc",
   "metadata": {},
   "outputs": [
    {
     "ename": "SyntaxError",
     "evalue": "invalid syntax (917023355.py, line 2)",
     "output_type": "error",
     "traceback": [
      "\u001b[0;36m  File \u001b[0;32m\"/var/folders/ls/stxb71s933g79808czg7z42m0000gn/T/ipykernel_18453/917023355.py\"\u001b[0;36m, line \u001b[0;32m2\u001b[0m\n\u001b[0;31m    if (a_smile True) and (b_smile True):\u001b[0m\n\u001b[0m                ^\u001b[0m\n\u001b[0;31mSyntaxError\u001b[0m\u001b[0;31m:\u001b[0m invalid syntax\n"
     ]
    }
   ],
   "source": [
    "def monkey_trouble(a_smile, b_smile):\n",
    "  if (a_smile True) and (b_smile True):\n",
    "    return True\n",
    "  elif a_smile False and b_smile False:\n",
    "    return True\n",
    "    "
   ]
  },
  {
   "cell_type": "code",
   "execution_count": null,
   "id": "34c21bb7",
   "metadata": {},
   "outputs": [],
   "source": [
    "c= int(input())\n",
    "if c==1:\n",
    "    n=int(input(\"input number for sum of digits \\n\"))\n",
    "    sum=0\n",
    "    while n>0:\n",
    "        k = int(n%10)\n",
    "        sum+=k\n",
    "        n=int(n/10)\n",
    "    print(sum)\n",
    "elif c==2:\n",
    "    n=int(input(\"input number for product of digits \\n\"))\n",
    "    pro=1\n",
    "    while n>0:\n",
    "        k = int(n%10)\n",
    "        pro*=k\n",
    "        n=int(n/10)\n",
    "    print(pro)\n",
    "else:\n",
    "    print(\"-1\")"
   ]
  }
 ],
 "metadata": {
  "interpreter": {
   "hash": "aee8b7b246df8f9039afb4144a1f6fd8d2ca17a180786b69acc140d282b71a49"
  },
  "kernelspec": {
   "display_name": "Python 3",
   "language": "python",
   "name": "python3"
  },
  "language_info": {
   "codemirror_mode": {
    "name": "ipython",
    "version": 3
   },
   "file_extension": ".py",
   "mimetype": "text/x-python",
   "name": "python",
   "nbconvert_exporter": "python",
   "pygments_lexer": "ipython3",
   "version": "3.8.8"
  }
 },
 "nbformat": 4,
 "nbformat_minor": 5
}
