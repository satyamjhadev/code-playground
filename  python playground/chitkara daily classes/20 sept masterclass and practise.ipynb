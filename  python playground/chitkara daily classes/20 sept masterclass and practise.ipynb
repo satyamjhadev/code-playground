{
 "cells": [
  {
   "cell_type": "code",
   "execution_count": null,
   "source": [
    "n=int(input())\n",
    "t=int(input())\n",
    "for i in range (1,t+1)\n",
    "    print"
   ],
   "outputs": [],
   "metadata": {}
  },
  {
   "cell_type": "code",
   "execution_count": 1,
   "source": [
    "n=int(input())\n",
    "totalspace=n*2-2\n",
    "row=1\n",
    "while(row<=n):\n",
    "    column=1\n",
    "    while column<=row:\n",
    "        print(column,end='')\n",
    "        column=column+1\n",
    "    space=1\n",
    "    while space<=totalspace:\n",
    "        print(' ',end=\"\")\n",
    "        space+=1\n",
    "    totalspace-=2\n",
    "    column=row\n",
    "    while column>0:\n",
    "        print(column,end='')\n",
    "        column-=1\n",
    "    row+=1\n",
    "    print()"
   ],
   "outputs": [
    {
     "output_type": "stream",
     "name": "stdout",
     "text": [
      "8\n",
      "1              1\n",
      "12            21\n",
      "123          321\n",
      "1234        4321\n",
      "12345      54321\n",
      "123456    654321\n",
      "1234567  7654321\n",
      "1234567887654321\n"
     ]
    }
   ],
   "metadata": {}
  },
  {
   "cell_type": "code",
   "execution_count": 1,
   "source": [
    "for i in range(4):\n",
    "    for j in range (4):\n",
    "        if j==i:\n",
    "            break\n",
    "    print(i,j)        \n",
    "    "
   ],
   "outputs": [
    {
     "output_type": "stream",
     "name": "stdout",
     "text": [
      "0 0\n",
      "1 1\n",
      "2 2\n",
      "3 3\n"
     ]
    }
   ],
   "metadata": {}
  },
  {
   "cell_type": "code",
   "execution_count": 4,
   "source": [
    "list1 = [10, 20, 4, 45, 99]\n",
    " \n",
    "\n",
    "list1.sort()\n"
   ],
   "outputs": [],
   "metadata": {}
  },
  {
   "cell_type": "code",
   "execution_count": 10,
   "source": [
    "list = [10, 2, 4, 45, 99]\n",
    " \n",
    "# sorting the list\n",
    "list.sort()"
   ],
   "outputs": [],
   "metadata": {}
  },
  {
   "cell_type": "code",
   "execution_count": 8,
   "source": [
    "list = [10, 20, 4, 45, 99]\n",
    " \n",
    "# sorting the list\n",
    "list.sort()\n",
    " \n",
    "# printing the second last element\n",
    "print(\"Second largest element is:\", list[-2])"
   ],
   "outputs": [
    {
     "output_type": "stream",
     "name": "stdout",
     "text": [
      "Second largest element is: 45\n"
     ]
    }
   ],
   "metadata": {}
  },
  {
   "cell_type": "code",
   "execution_count": null,
   "source": [],
   "outputs": [],
   "metadata": {}
  },
  {
   "cell_type": "code",
   "execution_count": null,
   "source": [
    "n=int(input())\n",
    "t=true\n",
    "if"
   ],
   "outputs": [],
   "metadata": {}
  }
 ],
 "metadata": {
  "kernelspec": {
   "name": "python3",
   "display_name": "Python 3.10.0 64-bit"
  },
  "language_info": {
   "codemirror_mode": {
    "name": "ipython",
    "version": 3
   },
   "file_extension": ".py",
   "mimetype": "text/x-python",
   "name": "python",
   "nbconvert_exporter": "python",
   "pygments_lexer": "ipython3",
   "version": "3.10.0"
  },
  "interpreter": {
   "hash": "aee8b7b246df8f9039afb4144a1f6fd8d2ca17a180786b69acc140d282b71a49"
  }
 },
 "nbformat": 4,
 "nbformat_minor": 5
}