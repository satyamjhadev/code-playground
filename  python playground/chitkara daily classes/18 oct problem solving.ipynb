{
 "cells": [
  {
   "cell_type": "code",
   "execution_count": 9,
   "metadata": {},
   "outputs": [
    {
     "data": {
      "text/plain": [
       "['hockey', 'ping pong', 'curling']"
      ]
     },
     "execution_count": 9,
     "metadata": {},
     "output_type": "execute_result"
    }
   ],
   "source": [
    "#wap that extract last 3 items from the list.\n",
    "\n",
    "sports=[\"cricket\",\"volleyball\",'baseball', \"track and field\", \"curling\",\"ping pong\",\"hockey\"]\n",
    "sports\n",
    "sports[-1:-4:-1]"
   ]
  },
  {
   "cell_type": "code",
   "execution_count": 29,
   "metadata": {},
   "outputs": [
    {
     "name": "stdout",
     "output_type": "stream",
     "text": [
      "you are doing great job keep it up\n"
     ]
    }
   ],
   "source": [
    "#wap that combines the following variable so that\n",
    "# THE sentence\"you are doing a great job,keep it up!\" is assinged to the variable messeges.\n",
    "#do not edit the values assinged \n",
    "\n",
    "by=\"you are\"\n",
    "az=\"doing great\"\n",
    "io=\"job\"\n",
    "qy='keep it up'\n",
    "message=((by+\" \"+az+\" \"+io+\" \"+qy))\n",
    "print(message)\n",
    "\n",
    "\n",
    "\n"
   ]
  },
  {
   "cell_type": "code",
   "execution_count": null,
   "metadata": {},
   "outputs": [],
   "source": [
    "# wap one for loop to print out each character of the string my_str on a seprate line.\n",
    "# my_str=\"MICHIGAN\"\n",
    "for i in MICHIGAN:\n",
    "    print()\n",
    "\n",
    "\n",
    "\n",
    "\n",
    "\n"
   ]
  },
  {
   "cell_type": "code",
   "execution_count": 20,
   "metadata": {},
   "outputs": [
    {
     "name": "stdout",
     "output_type": "stream",
     "text": [
      "hello\n",
      "2\n",
      "4\n",
      "6.0\n",
      "7.5\n",
      "234352354\n",
      "the end\n",
      "\n",
      "99\n",
      "<class 'str'>\n",
      "<class 'int'>\n",
      "<class 'int'>\n",
      "<class 'float'>\n",
      "<class 'float'>\n",
      "<class 'int'>\n",
      "<class 'str'>\n",
      "<class 'str'>\n",
      "<class 'int'>\n"
     ]
    }
   ],
   "source": [
    "\n",
    "\n",
    "several_things=[\"hello\",2,4,6.0,7.5,234352354,\"the end\",\"\",99]\n",
    "for i in several_things:\n",
    "    print(i)\n",
    "for i in several_things:\n",
    "    print(type(i))\n",
    "    \n",
    "\n",
    "\n",
    "\n",
    "\n",
    "\n"
   ]
  },
  {
   "cell_type": "code",
   "execution_count": 22,
   "metadata": {},
   "outputs": [
    {
     "name": "stdout",
     "output_type": "stream",
     "text": [
      "5\n",
      "0\n",
      "7\n",
      "9\n",
      "13\n"
     ]
    }
   ],
   "source": [
    "#wap that uses iteration to print out lenght of each element of the list stored in str_list.\n",
    "\n",
    "str_list=[\"hello\",\"\",\"goodbye\",\"wonderful\",\"i love python\"]\n",
    "for i in str_list:\n",
    "    print(len(i))\n",
    "\n",
    "\n",
    "\n"
   ]
  },
  {
   "cell_type": "code",
   "execution_count": null,
   "metadata": {},
   "outputs": [],
   "source": [
    "#wap to count no of character in original str using the accumulation pattern and assingn the answer to a \n",
    "# variable num_chars.\n",
    "\n",
    "original_str=the quick brown rhino jumped over the extremly lazy fox.\"\n",
    "\n",
    "\n",
    "\n",
    "\n",
    "\n",
    "\n",
    "\n",
    "\n"
   ]
  },
  {
   "cell_type": "code",
   "execution_count": 44,
   "metadata": {},
   "outputs": [
    {
     "name": "stdout",
     "output_type": "stream",
     "text": [
      "37\n"
     ]
    }
   ],
   "source": [
    "\n",
    "addition_str=\"2+5+10+20\"\n",
    "lst=addition_str.split(\"+\")\n",
    "new_lst=[int(i) for i in lst]\n",
    "sum_val=sum(new_lst)\n",
    "print(sum_val)    \n",
    "\n",
    "\n",
    "\n"
   ]
  },
  {
   "cell_type": "code",
   "execution_count": null,
   "metadata": {},
   "outputs": [],
   "source": [
    "\n",
    "\n",
    "week_temp_f=\"75.1,77.7,83.2,82.5,81.0,79.5,85.7\"\n",
    "lst_temp=week_temp_f.split(\" \")\n",
    "new_temp_list=[int(i) for i in lst_temp]\n",
    "for i in new_temp_list:\n",
    "    average=\n",
    "\n",
    "\n",
    "\n"
   ]
  },
  {
   "cell_type": "code",
   "execution_count": 60,
   "metadata": {},
   "outputs": [
    {
     "ename": "SyntaxError",
     "evalue": "invalid syntax (3148153512.py, line 3)",
     "output_type": "error",
     "traceback": [
      "\u001b[0;36m  File \u001b[0;32m\"/var/folders/ls/stxb71s933g79808czg7z42m0000gn/T/ipykernel_3128/3148153512.py\"\u001b[0;36m, line \u001b[0;32m3\u001b[0m\n\u001b[0;31m    count=for i in month:\u001b[0m\n\u001b[0m          ^\u001b[0m\n\u001b[0;31mSyntaxError\u001b[0m\u001b[0;31m:\u001b[0m invalid syntax\n"
     ]
    }
   ],
   "source": [
    "rainfall_mi = \"1.65,1.46,2.05,3.03,3.35,3.46,2.83,3.23,2.52,2.8,1.85\"\n",
    "months=rainfall_mi.split(\" \")\n",
    "count=for i in month:\n",
    "    \n",
    "\n",
    "\n",
    "\n",
    "\n"
   ]
  },
  {
   "cell_type": "code",
   "execution_count": 54,
   "metadata": {},
   "outputs": [
    {
     "ename": "AttributeError",
     "evalue": "'list' object has no attribute 'split'",
     "output_type": "error",
     "traceback": [
      "\u001b[0;31m---------------------------------------------------------------------------\u001b[0m",
      "\u001b[0;31mAttributeError\u001b[0m                            Traceback (most recent call last)",
      "\u001b[0;32m/var/folders/ls/stxb71s933g79808czg7z42m0000gn/T/ipykernel_3128/282827327.py\u001b[0m in \u001b[0;36m<module>\u001b[0;34m\u001b[0m\n\u001b[1;32m      1\u001b[0m \u001b[0;32mfor\u001b[0m \u001b[0mi\u001b[0m \u001b[0;32min\u001b[0m \u001b[0mrange\u001b[0m\u001b[0;34m(\u001b[0m\u001b[0;36m68\u001b[0m\u001b[0;34m)\u001b[0m\u001b[0;34m:\u001b[0m\u001b[0;34m\u001b[0m\u001b[0;34m\u001b[0m\u001b[0m\n\u001b[0;32m----> 2\u001b[0;31m     \u001b[0mnums\u001b[0m\u001b[0;34m=\u001b[0m\u001b[0;34m[\u001b[0m\u001b[0mi\u001b[0m\u001b[0;34m]\u001b[0m\u001b[0;34m.\u001b[0m\u001b[0msplit\u001b[0m\u001b[0;34m(\u001b[0m\u001b[0;34m\" \"\u001b[0m\u001b[0;34m)\u001b[0m\u001b[0;34m\u001b[0m\u001b[0;34m\u001b[0m\u001b[0m\n\u001b[0m\u001b[1;32m      3\u001b[0m     \u001b[0mprint\u001b[0m\u001b[0;34m(\u001b[0m\u001b[0mnums\u001b[0m\u001b[0;34m)\u001b[0m\u001b[0;34m\u001b[0m\u001b[0;34m\u001b[0m\u001b[0m\n\u001b[1;32m      4\u001b[0m \u001b[0;34m\u001b[0m\u001b[0m\n\u001b[1;32m      5\u001b[0m \u001b[0;34m\u001b[0m\u001b[0m\n",
      "\u001b[0;31mAttributeError\u001b[0m: 'list' object has no attribute 'split'"
     ]
    }
   ],
   "source": [
    "for i in range(68):\n",
    "    nums=[i]\n",
    "    print(nums)\n",
    "\n",
    "\n"
   ]
  },
  {
   "cell_type": "code",
   "execution_count": 59,
   "metadata": {},
   "outputs": [
    {
     "name": "stdout",
     "output_type": "stream",
     "text": [
      "[3, 5, 5, 5, 6, 4, 3, 8, 4, 4]\n"
     ]
    }
   ],
   "source": [
    "\n",
    "original_str=\"the quick brown rhino jumped over the extremly lazy fox.\"\n",
    "original_lst=original_str.split(\" \")\n",
    "num_words_list=[]\n",
    "\n",
    "for i in original_lst:\n",
    "    num_words_list.append(len(i))\n",
    "    \n",
    "print(num_words_list)\n",
    "\n",
    "\n",
    "\n",
    "\n",
    "\n",
    "\n"
   ]
  },
  {
   "cell_type": "code",
   "execution_count": 61,
   "metadata": {},
   "outputs": [
    {
     "name": "stdout",
     "output_type": "stream",
     "text": [
      "['the', 'quick', 'brown', 'rhino', 'jumped', 'over', 'the', 'extremly', 'lazy', 'fox.']\n"
     ]
    }
   ],
   "source": [
    "original_str=\"the quick brown rhino jumped over the extremly lazy fox.\"\n",
    "original_lst=original_str.split(\" \")\n",
    "num_words_list=[]\n",
    "\n",
    "for i in original_lst:\n",
    "    num_words_list.append((i))\n",
    "    \n",
    "print(num_words_list)"
   ]
  },
  {
   "cell_type": "code",
   "execution_count": 62,
   "metadata": {},
   "outputs": [
    {
     "ename": "ValueError",
     "evalue": "empty separator",
     "output_type": "error",
     "traceback": [
      "\u001b[0;31m---------------------------------------------------------------------------\u001b[0m",
      "\u001b[0;31mValueError\u001b[0m                                Traceback (most recent call last)",
      "\u001b[0;32m/var/folders/ls/stxb71s933g79808czg7z42m0000gn/T/ipykernel_3128/1878446872.py\u001b[0m in \u001b[0;36m<module>\u001b[0;34m\u001b[0m\n\u001b[1;32m      1\u001b[0m \u001b[0mlett\u001b[0m\u001b[0;34m=\u001b[0m\u001b[0;34m\"\"\u001b[0m\u001b[0;34m\u001b[0m\u001b[0;34m\u001b[0m\u001b[0m\n\u001b[0;32m----> 2\u001b[0;31m \u001b[0mnew_lett\u001b[0m\u001b[0;34m=\u001b[0m\u001b[0mlett\u001b[0m\u001b[0;34m.\u001b[0m\u001b[0msplit\u001b[0m\u001b[0;34m(\u001b[0m\u001b[0;34m\"\"\u001b[0m\u001b[0;34m)\u001b[0m\u001b[0;34m\u001b[0m\u001b[0;34m\u001b[0m\u001b[0m\n\u001b[0m\u001b[1;32m      3\u001b[0m \u001b[0mlett_lst\u001b[0m\u001b[0;34m=\u001b[0m\u001b[0;34m[\u001b[0m\u001b[0;34m]\u001b[0m\u001b[0;34m\u001b[0m\u001b[0;34m\u001b[0m\u001b[0m\n\u001b[1;32m      4\u001b[0m \u001b[0;32mfor\u001b[0m \u001b[0mi\u001b[0m \u001b[0;32min\u001b[0m \u001b[0mnew_lett\u001b[0m\u001b[0;34m:\u001b[0m\u001b[0;34m\u001b[0m\u001b[0;34m\u001b[0m\u001b[0m\n\u001b[1;32m      5\u001b[0m     \u001b[0mlett_lst\u001b[0m\u001b[0;34m.\u001b[0m\u001b[0mappend\u001b[0m\u001b[0;34m(\u001b[0m\u001b[0;34m\"bbbbbbb\"\u001b[0m\u001b[0;34m)\u001b[0m\u001b[0;34m\u001b[0m\u001b[0;34m\u001b[0m\u001b[0m\n",
      "\u001b[0;31mValueError\u001b[0m: empty separator"
     ]
    }
   ],
   "source": [
    "\n",
    "lett=\"\"\n",
    "new_lett=lett.split(\"\")\n",
    "lett_lst=[]\n",
    "for i in new_lett:\n",
    "    lett_lst.append(\"bbbbbbb\")\n",
    "print(lett_lst)\n",
    "    \n",
    "\n",
    "\n"
   ]
  },
  {
   "cell_type": "code",
   "execution_count": 63,
   "metadata": {},
   "outputs": [
    {
     "name": "stdout",
     "output_type": "stream",
     "text": [
      "bbbbbbb\n"
     ]
    }
   ],
   "source": [
    "lett=\"\"\n",
    "for i in range(0,7):\n",
    "    lett=lett+\"b\"\n",
    "print(lett)    "
   ]
  },
  {
   "cell_type": "code",
   "execution_count": 67,
   "metadata": {},
   "outputs": [
    {
     "name": "stdout",
     "output_type": "stream",
     "text": [
      "3\n"
     ]
    }
   ],
   "source": [
    "items=[\"whirrring\",\"wow!\",\"calender\",\"wry\",\"glass\"]\n",
    "\n",
    "count=0\n",
    "for i in items:\n",
    "    if \"w\" in i:\n",
    "        count=count+1\n",
    "print(count)    \n",
    "\n",
    "\n"
   ]
  },
  {
   "cell_type": "code",
   "execution_count": 80,
   "metadata": {},
   "outputs": [
    {
     "name": "stdout",
     "output_type": "stream",
     "text": [
      "6\n"
     ]
    }
   ],
   "source": [
    "\n",
    "sentence=\"python is a high level genral purpose programming language\"\n",
    "sen=sentence.split()\n",
    "\n",
    "count=0\n",
    "\n",
    "for i in sen:\n",
    "    if 'a' in i or \"e\" in i:\n",
    "        count=count+1\n",
    "num_a_or_e=count    \n",
    "print(num_a_or_e)\n",
    "\n",
    "\n"
   ]
  },
  {
   "cell_type": "code",
   "execution_count": 82,
   "metadata": {},
   "outputs": [
    {
     "name": "stdout",
     "output_type": "stream",
     "text": [
      "32\n"
     ]
    }
   ],
   "source": [
    "s=\"singing in the rain and playing in the rain are two entirely different situations but both can be fun\"\n",
    "sent=s.split()\n",
    "vowels=[\"a\",\"i\",\"e\",\"o\",\"u\"]\n",
    "count=0\n",
    "for i in s:\n",
    "    if i in vowels:\n",
    "        count=count+1\n",
    "        \n",
    "num_vowels=count\n",
    "print(num_vowels)\n",
    "\n",
    "\n",
    "\n",
    "\n",
    "\n",
    "\n"
   ]
  },
  {
   "cell_type": "code",
   "execution_count": 87,
   "metadata": {},
   "outputs": [
    {
     "ename": "SyntaxError",
     "evalue": "invalid syntax (449688337.py, line 4)",
     "output_type": "error",
     "traceback": [
      "\u001b[0;36m  File \u001b[0;32m\"/var/folders/ls/stxb71s933g79808czg7z42m0000gn/T/ipykernel_3128/449688337.py\"\u001b[0;36m, line \u001b[0;32m4\u001b[0m\n\u001b[0;31m    sports.insert(3:\"horse riding\")\u001b[0m\n\u001b[0m                   ^\u001b[0m\n\u001b[0;31mSyntaxError\u001b[0m\u001b[0;31m:\u001b[0m invalid syntax\n"
     ]
    }
   ],
   "source": [
    "#wap to add \"horesback riding to the 3rd position\"\n",
    "\n",
    "sports=[\"cricket\",\"football\",\"volleyball\",\"baseball\",\"softball\", \"track and field\"]\n",
    "sports.insert()\n",
    "\n",
    "\n"
   ]
  }
 ],
 "metadata": {
  "interpreter": {
   "hash": "aee8b7b246df8f9039afb4144a1f6fd8d2ca17a180786b69acc140d282b71a49"
  },
  "kernelspec": {
   "display_name": "Python 3.10.0 64-bit",
   "name": "python3"
  },
  "language_info": {
   "codemirror_mode": {
    "name": "ipython",
    "version": 3
   },
   "file_extension": ".py",
   "mimetype": "text/x-python",
   "name": "python",
   "nbconvert_exporter": "python",
   "pygments_lexer": "ipython3",
   "version": "3.10.0"
  },
  "orig_nbformat": 4
 },
 "nbformat": 4,
 "nbformat_minor": 2
}
