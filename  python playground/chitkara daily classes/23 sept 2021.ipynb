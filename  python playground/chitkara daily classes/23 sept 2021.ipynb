{
 "cells": [
  {
   "cell_type": "code",
   "execution_count": 1,
   "id": "0574b4cd",
   "metadata": {},
   "outputs": [
    {
     "name": "stdout",
     "output_type": "stream",
     "text": [
      "hello abc\n",
      "hello steve\n",
      "hello abc\n"
     ]
    }
   ],
   "source": [
    "# function\n",
    "def f(name):\n",
    "    print(\"hello\",name)\n",
    "f(\"abc\")\n",
    "f(\"steve\")\n",
    "f(\"abc\")\n",
    "\n"
   ]
  },
  {
   "cell_type": "code",
   "execution_count": 4,
   "id": "95fe6135",
   "metadata": {},
   "outputs": [
    {
     "name": "stdout",
     "output_type": "stream",
     "text": [
      "HI steve jobs\n",
      "HI bill gates\n",
      "hello abc\n"
     ]
    }
   ],
   "source": [
    "def display_comp_name(fname,lname):\n",
    "    print(\"HI {} {}\".format(fname,lname))\n",
    "display_comp_name(\"steve\",\"jobs\")\n",
    "display_comp_name(\"bill\",\"gates\")\n",
    "f(\"abc\")"
   ]
  },
  {
   "cell_type": "code",
   "execution_count": 5,
   "id": "f66401a0",
   "metadata": {},
   "outputs": [
    {
     "name": "stdout",
     "output_type": "stream",
     "text": [
      "15\n",
      "5\n"
     ]
    }
   ],
   "source": [
    "def f1(a):\n",
    "    a=a+10\n",
    "    print(a)\n",
    "a=5\n",
    "f1(a)\n",
    "print(a)"
   ]
  },
  {
   "cell_type": "code",
   "execution_count": 18,
   "id": "131f23e2",
   "metadata": {},
   "outputs": [
    {
     "name": "stdout",
     "output_type": "stream",
     "text": [
      "10\n",
      "1                  1\n",
      "12                21\n",
      "123              321\n",
      "1234            4321\n",
      "12345          54321\n",
      "123456        654321\n",
      "1234567      7654321\n",
      "12345678    87654321\n",
      "123456789  987654321\n",
      "1234567891010987654321\n"
     ]
    }
   ],
   "source": [
    "n=int(input())\n",
    "totalspace=n*2-2\n",
    "row=1\n",
    "while(row<=n):\n",
    "    column=1\n",
    "    while column<=row:\n",
    "        print(column,end='')\n",
    "        column=column+1\n",
    "    space=1\n",
    "    while space<=totalspace:\n",
    "        print(' ',end=\"\")\n",
    "        space+=1\n",
    "    totalspace-=2\n",
    "    column=row\n",
    "    while column>0:\n",
    "        print(column,end='')\n",
    "        column-=1\n",
    "    row+=1\n",
    "    print()"
   ]
  },
  {
   "cell_type": "code",
   "execution_count": null,
   "id": "989cfe4d",
   "metadata": {},
   "outputs": [],
   "source": []
  },
  {
   "cell_type": "code",
   "execution_count": 7,
   "id": "708eaf85",
   "metadata": {},
   "outputs": [
    {
     "name": "stdout",
     "output_type": "stream",
     "text": [
      "6\n"
     ]
    }
   ],
   "source": [
    "def f2(a):\n",
    "    a=a+1\n",
    "    return(a)\n",
    "\n",
    "\n",
    "a=5\n",
    "a=f2(a)\n",
    "print(a)"
   ]
  },
  {
   "cell_type": "code",
   "execution_count": 15,
   "id": "3bb05f1d",
   "metadata": {},
   "outputs": [
    {
     "name": "stdout",
     "output_type": "stream",
     "text": [
      "300\n",
      "-100\n",
      "35\n"
     ]
    }
   ],
   "source": [
    "#2 fnc at a time\n",
    "def f1(a,b):\n",
    "    return(a+b)\n",
    "\n",
    "def f2(a,b):\n",
    "    return(a-b)\n",
    "\n",
    "a=100\n",
    "b=200\n",
    "\n",
    "sum=f1(a,b)\n",
    "print(sum)\n",
    "\n",
    "diff=f2(a,b)\n",
    "print(diff)\n",
    "\n",
    "sum=f1(5,f1(10,20))# lat fnc will only called :nested fnc\n",
    "print(sum)#it becomes (5,30)"
   ]
  },
  {
   "cell_type": "code",
   "execution_count": null,
   "id": "eb6f5d6a",
   "metadata": {},
   "outputs": [],
   "source": []
  },
  {
   "cell_type": "code",
   "execution_count": null,
   "id": "b626f86e",
   "metadata": {},
   "outputs": [],
   "source": []
  },
  {
   "cell_type": "code",
   "execution_count": 11,
   "id": "536ead5c",
   "metadata": {},
   "outputs": [
    {
     "name": "stdout",
     "output_type": "stream",
     "text": [
      "300\n",
      "None\n",
      "-100\n",
      "None\n"
     ]
    }
   ],
   "source": [
    "def f1(a,b):\n",
    "    print(a+b)\n",
    "\n",
    "def f2(a,b):\n",
    "    print(a-b)\n",
    "\n",
    "a=100\n",
    "b=200\n",
    "\n",
    "sum=f1(a,b)\n",
    "print(sum)  #we have not returned anything so sum\n",
    "#sum can\"t get it so it is displaying none same with diff.\n",
    "\n",
    "diff=f2(a,b)\n",
    "print(diff)\n",
    "\n"
   ]
  },
  {
   "cell_type": "code",
   "execution_count": 13,
   "id": "d9cc8620",
   "metadata": {},
   "outputs": [
    {
     "name": "stdout",
     "output_type": "stream",
     "text": [
      "-100\n",
      "None\n",
      "-100\n",
      "None\n",
      "-10\n"
     ]
    },
    {
     "ename": "TypeError",
     "evalue": "unsupported operand type(s) for -: 'int' and 'NoneType'",
     "output_type": "error",
     "traceback": [
      "\u001b[0;31m---------------------------------------------------------------------------\u001b[0m",
      "\u001b[0;31mTypeError\u001b[0m                                 Traceback (most recent call last)",
      "\u001b[0;32m/var/folders/ls/stxb71s933g79808czg7z42m0000gn/T/ipykernel_4250/183803708.py\u001b[0m in \u001b[0;36m<module>\u001b[0;34m\u001b[0m\n\u001b[1;32m     15\u001b[0m \u001b[0mprint\u001b[0m\u001b[0;34m(\u001b[0m\u001b[0mdiff\u001b[0m\u001b[0;34m)\u001b[0m\u001b[0;34m\u001b[0m\u001b[0;34m\u001b[0m\u001b[0m\n\u001b[1;32m     16\u001b[0m \u001b[0;34m\u001b[0m\u001b[0m\n\u001b[0;32m---> 17\u001b[0;31m \u001b[0msum\u001b[0m\u001b[0;34m=\u001b[0m\u001b[0mf1\u001b[0m\u001b[0;34m(\u001b[0m\u001b[0;36m5\u001b[0m\u001b[0;34m,\u001b[0m\u001b[0mf1\u001b[0m\u001b[0;34m(\u001b[0m\u001b[0;36m10\u001b[0m\u001b[0;34m,\u001b[0m\u001b[0;36m20\u001b[0m\u001b[0;34m)\u001b[0m\u001b[0;34m)\u001b[0m\u001b[0;34m\u001b[0m\u001b[0;34m\u001b[0m\u001b[0m\n\u001b[0m\u001b[1;32m     18\u001b[0m \u001b[0mprint\u001b[0m\u001b[0;34m(\u001b[0m\u001b[0msum\u001b[0m\u001b[0;34m)\u001b[0m\u001b[0;34m\u001b[0m\u001b[0;34m\u001b[0m\u001b[0m\n\u001b[1;32m     19\u001b[0m \u001b[0;34m\u001b[0m\u001b[0m\n",
      "\u001b[0;32m/var/folders/ls/stxb71s933g79808czg7z42m0000gn/T/ipykernel_4250/183803708.py\u001b[0m in \u001b[0;36mf1\u001b[0;34m(a, b)\u001b[0m\n\u001b[1;32m      4\u001b[0m \u001b[0;34m\u001b[0m\u001b[0m\n\u001b[1;32m      5\u001b[0m \u001b[0;32mdef\u001b[0m \u001b[0mf1\u001b[0m\u001b[0;34m(\u001b[0m\u001b[0ma\u001b[0m\u001b[0;34m,\u001b[0m\u001b[0mb\u001b[0m\u001b[0;34m)\u001b[0m\u001b[0;34m:\u001b[0m\u001b[0;34m\u001b[0m\u001b[0;34m\u001b[0m\u001b[0m\n\u001b[0;32m----> 6\u001b[0;31m     \u001b[0mprint\u001b[0m\u001b[0;34m(\u001b[0m\u001b[0ma\u001b[0m\u001b[0;34m-\u001b[0m\u001b[0mb\u001b[0m\u001b[0;34m)\u001b[0m\u001b[0;31m#this is last fnc so it will be in picture\u001b[0m\u001b[0;34m\u001b[0m\u001b[0;34m\u001b[0m\u001b[0m\n\u001b[0m\u001b[1;32m      7\u001b[0m \u001b[0;34m\u001b[0m\u001b[0m\n\u001b[1;32m      8\u001b[0m \u001b[0ma\u001b[0m\u001b[0;34m=\u001b[0m\u001b[0;36m100\u001b[0m\u001b[0;34m\u001b[0m\u001b[0;34m\u001b[0m\u001b[0m\n",
      "\u001b[0;31mTypeError\u001b[0m: unsupported operand type(s) for -: 'int' and 'NoneType'"
     ]
    }
   ],
   "source": [
    "#checking 2 fnc with same name\n",
    "def f1(a,b):\n",
    "    print(a+b)\n",
    "\n",
    "def f1(a,b):\n",
    "    print(a-b)#this is last fnc so it will be in picture\n",
    "\n",
    "a=100\n",
    "b=200\n",
    "\n",
    "sum=f1(a,b)\n",
    "print(sum)  \n",
    "\n",
    "diff=f1(a,b)\n",
    "print(diff)\n",
    "\n",
    "sum=f1(5,f1(10,20))# lat fnc will only calles\n",
    "print(sum)\n",
    "\n",
    "#so last function is called "
   ]
  },
  {
   "cell_type": "code",
   "execution_count": null,
   "id": "6662bf06",
   "metadata": {},
   "outputs": [],
   "source": []
  },
  {
   "cell_type": "code",
   "execution_count": null,
   "id": "27959c57",
   "metadata": {},
   "outputs": [],
   "source": []
  },
  {
   "cell_type": "code",
   "execution_count": null,
   "id": "c201c2d0",
   "metadata": {},
   "outputs": [],
   "source": [
    "#we should define diff fnc for each task, we should not do the whole \n",
    "#project in one function,if we do so we will have to check all the code if we make any changes.\n",
    "#one fnc can be called by another fnc we will learn in oop.\n"
   ]
  },
  {
   "cell_type": "code",
   "execution_count": 12,
   "id": "463e0cf3",
   "metadata": {},
   "outputs": [
    {
     "name": "stdout",
     "output_type": "stream",
     "text": [
      "30\n",
      "21\n",
      "3\n"
     ]
    }
   ],
   "source": [
    "#default value\n",
    "def f5(a=10,b=20):\n",
    "    return a+b\n",
    "s1=f5()\n",
    "s2=f5(1)# 1 will be assinged to a\n",
    "s3=f5(1,2)# 1, 2 will be assinged to a and b respectively.\n",
    "print(s1)\n",
    "print(s2)\n",
    "print(s3)"
   ]
  },
  {
   "cell_type": "code",
   "execution_count": null,
   "id": "a4cc663d",
   "metadata": {},
   "outputs": [],
   "source": [
    "#que:def visit country()=f\n",
    "\n",
    "#if we enter germany it should display welcome to germany.\n",
    "#enter nothing shows usa\n",
    "#enter india shows welcome to india.\n",
    "\n",
    "\n",
    "def f(country=\"USA\"):\n",
    "    print(welcome to country)\n",
    "    \n",
    "    return \n",
    "f()\n",
    "f()\n",
    "\n"
   ]
  },
  {
   "cell_type": "code",
   "execution_count": 17,
   "id": "d816efb8",
   "metadata": {},
   "outputs": [
    {
     "name": "stdout",
     "output_type": "stream",
     "text": [
      "8\n",
      "1              1\n",
      "12            21\n",
      "123          321\n",
      "1234        4321\n",
      "12345      54321\n",
      "123456    654321\n",
      "1234567  7654321\n",
      "1234567887654321\n"
     ]
    }
   ],
   "source": [
    "n=int(input())\n",
    "totalspace=n*2-2\n",
    "row=1\n",
    "while(row<=n):\n",
    "    column=1\n",
    "    while column<=row:\n",
    "        print(column,end='')\n",
    "        column=column+1\n",
    "    space=1\n",
    "    while space<=totalspace:\n",
    "        print(' ',end=\"\")\n",
    "        space+=1\n",
    "    totalspace-=2\n",
    "    column=row\n",
    "    while column>0:\n",
    "        print(column,end='')\n",
    "        column-=1\n",
    "    row+=1\n",
    "    print()"
   ]
  },
  {
   "cell_type": "code",
   "execution_count": null,
   "id": "77af2773",
   "metadata": {},
   "outputs": [],
   "source": []
  },
  {
   "cell_type": "code",
   "execution_count": null,
   "id": "e80e5a87",
   "metadata": {},
   "outputs": [],
   "source": []
  },
  {
   "cell_type": "code",
   "execution_count": null,
   "id": "531598d3",
   "metadata": {},
   "outputs": [],
   "source": []
  },
  {
   "cell_type": "code",
   "execution_count": null,
   "id": "4f89c2c8",
   "metadata": {},
   "outputs": [],
   "source": []
  },
  {
   "cell_type": "code",
   "execution_count": null,
   "id": "3b8770bf",
   "metadata": {},
   "outputs": [],
   "source": []
  },
  {
   "cell_type": "code",
   "execution_count": null,
   "id": "6f01c926",
   "metadata": {},
   "outputs": [],
   "source": []
  },
  {
   "cell_type": "code",
   "execution_count": null,
   "id": "8fe4bf39",
   "metadata": {},
   "outputs": [],
   "source": []
  },
  {
   "cell_type": "code",
   "execution_count": null,
   "id": "ae03cd86",
   "metadata": {},
   "outputs": [],
   "source": []
  },
  {
   "cell_type": "code",
   "execution_count": null,
   "id": "939cd0cf",
   "metadata": {},
   "outputs": [],
   "source": []
  },
  {
   "cell_type": "code",
   "execution_count": null,
   "id": "b802496b",
   "metadata": {},
   "outputs": [],
   "source": []
  },
  {
   "cell_type": "code",
   "execution_count": null,
   "id": "909fde78",
   "metadata": {},
   "outputs": [],
   "source": []
  },
  {
   "cell_type": "code",
   "execution_count": null,
   "id": "75227d93",
   "metadata": {},
   "outputs": [],
   "source": []
  },
  {
   "cell_type": "code",
   "execution_count": null,
   "id": "e8c4da3a",
   "metadata": {},
   "outputs": [],
   "source": []
  },
  {
   "cell_type": "code",
   "execution_count": null,
   "id": "5eab235b",
   "metadata": {},
   "outputs": [],
   "source": []
  },
  {
   "cell_type": "code",
   "execution_count": null,
   "id": "bbb061f5",
   "metadata": {},
   "outputs": [],
   "source": []
  },
  {
   "cell_type": "code",
   "execution_count": null,
   "id": "16a6c782",
   "metadata": {},
   "outputs": [],
   "source": []
  },
  {
   "cell_type": "code",
   "execution_count": null,
   "id": "8083091c",
   "metadata": {},
   "outputs": [],
   "source": []
  },
  {
   "cell_type": "code",
   "execution_count": null,
   "id": "649d0747",
   "metadata": {},
   "outputs": [],
   "source": []
  },
  {
   "cell_type": "code",
   "execution_count": null,
   "id": "436213d4",
   "metadata": {},
   "outputs": [],
   "source": []
  },
  {
   "cell_type": "code",
   "execution_count": null,
   "id": "b33dedac",
   "metadata": {},
   "outputs": [],
   "source": []
  },
  {
   "cell_type": "code",
   "execution_count": null,
   "id": "c59a1e42",
   "metadata": {},
   "outputs": [],
   "source": []
  },
  {
   "cell_type": "code",
   "execution_count": null,
   "id": "d81ac17e",
   "metadata": {},
   "outputs": [],
   "source": []
  },
  {
   "cell_type": "code",
   "execution_count": null,
   "id": "0afee193",
   "metadata": {},
   "outputs": [],
   "source": []
  },
  {
   "cell_type": "code",
   "execution_count": null,
   "id": "66d4d968",
   "metadata": {},
   "outputs": [],
   "source": []
  },
  {
   "cell_type": "code",
   "execution_count": null,
   "id": "98f9fbd3",
   "metadata": {},
   "outputs": [],
   "source": []
  },
  {
   "cell_type": "code",
   "execution_count": null,
   "id": "413592db",
   "metadata": {},
   "outputs": [],
   "source": []
  },
  {
   "cell_type": "code",
   "execution_count": null,
   "id": "e60d003e",
   "metadata": {},
   "outputs": [],
   "source": []
  },
  {
   "cell_type": "code",
   "execution_count": null,
   "id": "d78f0852",
   "metadata": {},
   "outputs": [],
   "source": []
  },
  {
   "cell_type": "code",
   "execution_count": null,
   "id": "c57c85ee",
   "metadata": {},
   "outputs": [],
   "source": []
  },
  {
   "cell_type": "code",
   "execution_count": null,
   "id": "9856db1e",
   "metadata": {},
   "outputs": [],
   "source": []
  },
  {
   "cell_type": "code",
   "execution_count": null,
   "id": "41a331f2",
   "metadata": {},
   "outputs": [],
   "source": []
  },
  {
   "cell_type": "code",
   "execution_count": null,
   "id": "7c67daed",
   "metadata": {},
   "outputs": [],
   "source": []
  },
  {
   "cell_type": "code",
   "execution_count": null,
   "id": "5b4c3487",
   "metadata": {},
   "outputs": [],
   "source": []
  }
 ],
 "metadata": {
  "kernelspec": {
   "display_name": "Python 3.9.7 64-bit",
   "language": "python",
   "name": "python397jvsc74a57bd0aee8b7b246df8f9039afb4144a1f6fd8d2ca17a180786b69acc140d282b71a49"
  },
  "language_info": {
   "codemirror_mode": {
    "name": "ipython",
    "version": 3
   },
   "file_extension": ".py",
   "mimetype": "text/x-python",
   "name": "python",
   "nbconvert_exporter": "python",
   "pygments_lexer": "ipython3",
   "version": "3.9.7"
  }
 },
 "nbformat": 4,
 "nbformat_minor": 5
}
