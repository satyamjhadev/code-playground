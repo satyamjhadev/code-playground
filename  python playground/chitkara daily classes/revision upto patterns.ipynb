{
 "cells": [
  {
   "cell_type": "code",
   "execution_count": 1,
   "id": "ccf901a5",
   "metadata": {},
   "outputs": [
    {
     "name": "stdout",
     "output_type": "stream",
     "text": [
      "8\n",
      "                \n",
      "1              1\n",
      "12            21\n",
      "123          321\n",
      "1234        4321\n",
      "12345      54321\n",
      "123456    654321\n",
      "1234567  7654321\n",
      "1234567887654321\n"
     ]
    }
   ],
   "source": [
    "n=int(input())\n",
    "for i in range(n+1):\n",
    "  for j in range(i):\n",
    "    print(j+1,end=\"\")\n",
    "  for k in range(2*(n-i)):\n",
    "    print(end=\" \")\n",
    "  for l in range(i):\n",
    "    print(i-l,end=\"\")\n",
    "  print()"
   ]
  },
  {
   "cell_type": "code",
   "execution_count": 2,
   "id": "1a766a9f",
   "metadata": {},
   "outputs": [
    {
     "name": "stdout",
     "output_type": "stream",
     "text": [
      "8\n",
      "1              1\n",
      "12            21\n",
      "123          321\n",
      "1234        4321\n",
      "12345      54321\n",
      "123456    654321\n",
      "1234567  7654321\n",
      "1234567887654321\n"
     ]
    }
   ],
   "source": [
    "n=int(input())\n",
    "totalspace=n*2-2\n",
    "row=1\n",
    "while(row<=n):\n",
    "    column=1\n",
    "    while column<=row:\n",
    "        print(column,end='')\n",
    "        column=column+1\n",
    "    space=1\n",
    "    while space<=totalspace:\n",
    "        print(' ',end=\"\")\n",
    "        space+=1\n",
    "    totalspace-=2\n",
    "    column=row\n",
    "    while column>0:\n",
    "        print(column,end='')\n",
    "        column-=1\n",
    "    row+=1\n",
    "    print()"
   ]
  },
  {
   "cell_type": "code",
   "execution_count": 4,
   "id": "0427eac6",
   "metadata": {},
   "outputs": [
    {
     "name": "stdout",
     "output_type": "stream",
     "text": [
      "4\n",
      "*000*000*\n",
      "0*00*00*0\n",
      "00*0*0*00\n",
      "000***000\n"
     ]
    }
   ],
   "source": [
    "n=int(input())\n",
    "start=1\n",
    "end=2*n+1\n",
    "mid=n+1\n",
    "row=1\n",
    "while(row<=n):\n",
    "    column=1\n",
    "    while column<=(2*n+1):\n",
    "        if column==start or column==end or column==mid:\n",
    "            print(\"*\",end='')\n",
    "        else:\n",
    "            print(\"0\",end=\"\")\n",
    "        column=column+1\n",
    "    start=start+1\n",
    "    end=end-1\n",
    "    row=row+1\n",
    "    print()\n"
   ]
  },
  {
   "cell_type": "code",
   "execution_count": 5,
   "id": "7ffe2acd",
   "metadata": {},
   "outputs": [
    {
     "name": "stdout",
     "output_type": "stream",
     "text": [
      "4\n",
      "*000*000*\n",
      "0*00*00*0\n",
      "00*0*0*00\n",
      "000***000\n"
     ]
    }
   ],
   "source": [
    "n = int(input())\n",
    "for i in range(n):\n",
    "  for j in range(2*n+1):\n",
    "    if j==i or j==2*n-i:\n",
    "      print(\"*\",end=\"\")\n",
    "    elif j==2*n//2:\n",
    "      print(\"*\",end=\"\")\n",
    "    else:\n",
    "      print(\"0\",end=\"\")\n",
    "  print()"
   ]
  },
  {
   "cell_type": "code",
   "execution_count": 7,
   "id": "f7d46fd1",
   "metadata": {},
   "outputs": [
    {
     "name": "stdout",
     "output_type": "stream",
     "text": [
      "4\n",
      "   1\n",
      "  212\n",
      " 32123\n",
      "4321234\n"
     ]
    }
   ],
   "source": [
    "n = int(input())\n",
    "num = 1\n",
    "k = n - 1\n",
    "for j in range(1, n + 1):\n",
    "    num = j\n",
    "    for i in range(1, k + 1):\n",
    "        print(\" \", end=\"\")\n",
    "    k = k - 1\n",
    "\n",
    "    for i in range(1, j + 1):\n",
    "        print(num, end=\"\")\n",
    "        num-=1\n",
    "    num=2\n",
    "    for i in range(1, j):\n",
    "        print(num, end=\"\")\n",
    "        num+=1\n",
    "\n",
    "    print()\n"
   ]
  },
  {
   "cell_type": "code",
   "execution_count": 9,
   "id": "70f08073",
   "metadata": {},
   "outputs": [
    {
     "name": "stdout",
     "output_type": "stream",
     "text": [
      "4\n",
      "* \n",
      " * * \n",
      "* \n"
     ]
    },
    {
     "name": "stderr",
     "output_type": "stream",
     "text": [
      "UsageError: Line magic function `%jupyter` not found.\n"
     ]
    }
   ],
   "source": [
    "n = int(input())\n",
    "i = 1\n",
    "n1 = (n - 1) / 2\n",
    "n = (n + 1) / 2\n",
    "while i <= n:\n",
    "    spaces = 2\n",
    "    while spaces <= i:\n",
    "        print(\" \", end=\"\")\n",
    "        spaces += 1\n",
    "    star = 1\n",
    "    while star <= i:\n",
    "        print(\"* \", end=\"\")\n",
    "        star += 1\n",
    "    print(\"\")\n",
    "    i = i + 1\n",
    "\n",
    "i = 1\n",
    "g = 0\n",
    "while i <= n1:\n",
    "    num_1 = n1 - 1\n",
    "    while num_1 >= i:\n",
    "        print(\" \", end=\"\")\n",
    "        num_1 -= 1\n",
    "\n",
    "    num_1 = n1 - 1\n",
    "    while num_1 >= g:\n",
    "        print(\"* \", end=\"\")\n",
    "        num_1 -= 1\n",
    "    print()\n",
    "    i = i + 1\n",
    "    g = g + 1\n",
    "    %jupyter\n",
    "    \n"
   ]
  },
  {
   "cell_type": "code",
   "execution_count": 10,
   "id": "a0024d2f",
   "metadata": {},
   "outputs": [
    {
     "name": "stdout",
     "output_type": "stream",
     "text": [
      "7\n",
      "* \n",
      " * * \n",
      "  * * * \n",
      "   * * * * \n",
      "  * * * \n",
      " * * \n",
      "* \n"
     ]
    }
   ],
   "source": [
    "n=int(input())\n",
    "for i in range(1 , ((n//2)+2)):\n",
    "    for j in range(i-1):\n",
    "        print(' ',end=\"\")\n",
    "    for k in range(i):\n",
    "        print(\"* \",end=\"\")\n",
    "    print()\n",
    "for i in range(n//2):\n",
    "    for j in range(n//2-i+1,2,-1):\n",
    "        print(' ',end=\"\")\n",
    "    for k in range(n//2-i+1,1,-1):\n",
    "        print(\"* \",end=\"\")\n",
    "    print()"
   ]
  },
  {
   "cell_type": "code",
   "execution_count": 11,
   "id": "63976389",
   "metadata": {},
   "outputs": [
    {
     "name": "stdout",
     "output_type": "stream",
     "text": [
      "7\n",
      "* \n",
      " * * \n",
      "  * * * \n",
      "   * * * * \n",
      "  * * * \n",
      " * * \n",
      "* \n"
     ]
    }
   ],
   "source": [
    "n = int(input())\n",
    "if n%2==0:\n",
    "    x=int(n/2)\n",
    "else:\n",
    "    x=int(n/2+1)\n",
    "for i in range(1,x+1):\n",
    "    for k in range(1,i):\n",
    "        print(\" \", end=\"\")\n",
    "    for j in range(1,i+1):\n",
    "        print(\"* \",end=\"\")\n",
    "    print()    \n",
    "x=n-x\n",
    "for i in range(x,0,-1):\n",
    "    for k in range(i-2,-1,-1):\n",
    "        print(\" \", end=\"\")\n",
    "    for j in range(i,0,-1):\n",
    "        print(\"* \",end=\"\") \n",
    "    print()"
   ]
  },
  {
   "cell_type": "code",
   "execution_count": null,
   "id": "410e78ba",
   "metadata": {},
   "outputs": [],
   "source": []
  }
 ],
 "metadata": {
  "kernelspec": {
   "display_name": "Python 3.9.7 64-bit",
   "language": "python",
   "name": "python397jvsc74a57bd0aee8b7b246df8f9039afb4144a1f6fd8d2ca17a180786b69acc140d282b71a49"
  },
  "language_info": {
   "codemirror_mode": {
    "name": "ipython",
    "version": 3
   },
   "file_extension": ".py",
   "mimetype": "text/x-python",
   "name": "python",
   "nbconvert_exporter": "python",
   "pygments_lexer": "ipython3",
   "version": "3.9.7"
  }
 },
 "nbformat": 4,
 "nbformat_minor": 5
}
