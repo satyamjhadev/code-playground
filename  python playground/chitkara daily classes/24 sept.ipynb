{
 "cells": [
  {
   "cell_type": "code",
   "execution_count": 2,
   "id": "432e5986",
   "metadata": {},
   "outputs": [
    {
     "name": "stdout",
     "output_type": "stream",
     "text": [
      "3\n",
      "4\n",
      "5\n"
     ]
    },
    {
     "ename": "TypeError",
     "evalue": "f() missing 2 required positional arguments: 'b' and 'c'",
     "output_type": "error",
     "traceback": [
      "\u001b[0;31m---------------------------------------------------------------------------\u001b[0m",
      "\u001b[0;31mTypeError\u001b[0m                                 Traceback (most recent call last)",
      "\u001b[0;32m/var/folders/ls/stxb71s933g79808czg7z42m0000gn/T/ipykernel_1295/3267568621.py\u001b[0m in \u001b[0;36m<module>\u001b[0;34m\u001b[0m\n\u001b[1;32m      5\u001b[0m \u001b[0mb\u001b[0m\u001b[0;34m=\u001b[0m\u001b[0mint\u001b[0m\u001b[0;34m(\u001b[0m\u001b[0minput\u001b[0m\u001b[0;34m(\u001b[0m\u001b[0;34m)\u001b[0m\u001b[0;34m)\u001b[0m\u001b[0;34m\u001b[0m\u001b[0;34m\u001b[0m\u001b[0m\n\u001b[1;32m      6\u001b[0m \u001b[0mc\u001b[0m\u001b[0;34m=\u001b[0m\u001b[0mint\u001b[0m\u001b[0;34m(\u001b[0m\u001b[0minput\u001b[0m\u001b[0;34m(\u001b[0m\u001b[0;34m)\u001b[0m\u001b[0;34m)\u001b[0m\u001b[0;34m\u001b[0m\u001b[0;34m\u001b[0m\u001b[0m\n\u001b[0;32m----> 7\u001b[0;31m \u001b[0mf\u001b[0m\u001b[0;34m(\u001b[0m\u001b[0mmax\u001b[0m\u001b[0;34m(\u001b[0m\u001b[0ma\u001b[0m\u001b[0;34m,\u001b[0m\u001b[0mb\u001b[0m\u001b[0;34m,\u001b[0m\u001b[0mc\u001b[0m\u001b[0;34m)\u001b[0m\u001b[0;34m)\u001b[0m\u001b[0;34m\u001b[0m\u001b[0;34m\u001b[0m\u001b[0m\n\u001b[0m\u001b[1;32m      8\u001b[0m \u001b[0mprint\u001b[0m\u001b[0;34m(\u001b[0m\u001b[0;34m\"max of {} {} and {} is {}\"\u001b[0m\u001b[0;34m.\u001b[0m\u001b[0mformat\u001b[0m\u001b[0;34m(\u001b[0m\u001b[0ma\u001b[0m\u001b[0;34m,\u001b[0m\u001b[0mb\u001b[0m\u001b[0;34m,\u001b[0m\u001b[0mc\u001b[0m\u001b[0;34m,\u001b[0m\u001b[0mf\u001b[0m\u001b[0;34m(\u001b[0m\u001b[0ma\u001b[0m\u001b[0;34m,\u001b[0m\u001b[0mb\u001b[0m\u001b[0;34m,\u001b[0m\u001b[0mc\u001b[0m\u001b[0;34m)\u001b[0m\u001b[0;34m)\u001b[0m\u001b[0;34m)\u001b[0m\u001b[0;34m\u001b[0m\u001b[0;34m\u001b[0m\u001b[0m\n\u001b[1;32m      9\u001b[0m \u001b[0;34m\u001b[0m\u001b[0m\n",
      "\u001b[0;31mTypeError\u001b[0m: f() missing 2 required positional arguments: 'b' and 'c'"
     ]
    }
   ],
   "source": [
    "#function\n",
    "def f(a,b,c):\n",
    "    return max(a,b,c)\n",
    "a=int(input())\n",
    "b=int(input())\n",
    "c=int(input())\n",
    "f(max(a,b,c))\n",
    "print(\"max of {} {} and {} is {}\".format(a,b,c,f(a,b,c)))\n",
    "\n"
   ]
  },
  {
   "cell_type": "code",
   "execution_count": 4,
   "id": "be4d9251",
   "metadata": {},
   "outputs": [
    {
     "name": "stdout",
     "output_type": "stream",
     "text": [
      "enter an integer: 123\n",
      "the sum of the digits of a number 123 is 6\n"
     ]
    }
   ],
   "source": [
    "#wap for taking a input with n=int(input(\"enter an integer:\"))\n",
    "#print('the sum of the digits  of a no {} is {}'.format(n,sumdigits(n)))\n",
    "\n",
    "\n",
    "def sumDigits(n):\n",
    "    sum=0\n",
    "    while n>0:\n",
    "        n1=n%10\n",
    "        sum +=n1\n",
    "        n=n//10\n",
    "    return sum \n",
    "\n",
    "\n",
    "n=int(input(\"enter an integer: \"))\n",
    "print(\"the sum of the digits of a number {} is {}\".format(n,sumDigits(n)))\n",
    "\n",
    "\n",
    "\n",
    "\n",
    "\n",
    "\n",
    "\n",
    "\n",
    "\n",
    "\n",
    "\n",
    "\n",
    "\n",
    "\n"
   ]
  },
  {
   "cell_type": "code",
   "execution_count": 9,
   "id": "f2a57c5c",
   "metadata": {},
   "outputs": [
    {
     "name": "stdout",
     "output_type": "stream",
     "text": [
      "1234\n",
      "reverse of 1234 is 4321\n"
     ]
    }
   ],
   "source": [
    "#reverse of a no\n",
    "\n",
    "def reverse(x):\n",
    "    result=0\n",
    "    while x>0:\n",
    "        result=result*10 + x%10\n",
    "        x=x//10\n",
    "    return result\n",
    "\n",
    "n=int(input())\n",
    "print(\"reverse of {} is {}\".format(n,reverse(n)))\n"
   ]
  },
  {
   "cell_type": "code",
   "execution_count": 13,
   "id": "5565f18a",
   "metadata": {},
   "outputs": [
    {
     "name": "stdout",
     "output_type": "stream",
     "text": [
      "123\n",
      "123 is not a palindrome number\n"
     ]
    }
   ],
   "source": [
    "#...palindrome check\n",
    "\n",
    "#n=int(input())\n",
    "#if n == check_palindrome(n):\n",
    "    #print(\"{} is a palindrome no \".format(n))\n",
    "#else:\n",
    "    #print(\"{} is not a palindrome number\".format(n))\n",
    "#...    \n",
    "\n",
    "def check_palindrome(x):\n",
    "    result=0\n",
    "    while x>0:\n",
    "        result=result*10 + x%10\n",
    "        x=x//10\n",
    "    return result\n",
    "n=int(input())\n",
    "if n== check_palindrome(n):\n",
    "      print(\"{} is a palindrome no \".format(n))\n",
    "else:\n",
    "    print(\"{} is not a palindrome number\".format(n))\n",
    "    "
   ]
  },
  {
   "cell_type": "code",
   "execution_count": 29,
   "id": "015bd172",
   "metadata": {},
   "outputs": [],
   "source": [
    "#printchars\n",
    "#write a function that prints character btw ch1 and ch2 with the specified numbers\n",
    "#per lines\n",
    "\n",
    "def f(ch1,ch2,numberperline):\n",
    "    count=1\n",
    "    for i in range(ord(ch1), ord(ch2)+1):\n",
    "        print(chr(i),end=\"  \")\n",
    "        if count % numberperline == 0:\n",
    "            print()\n",
    "    count=count+ 1\n",
    "    \n",
    "    \n",
    "f(\"A\", \"Z\" ,3)\n",
    "\n",
    "\n"
   ]
  },
  {
   "cell_type": "code",
   "execution_count": 33,
   "id": "7b68a049",
   "metadata": {},
   "outputs": [
    {
     "ename": "SyntaxError",
     "evalue": "invalid syntax (1421232558.py, line 9)",
     "output_type": "error",
     "traceback": [
      "\u001b[0;36m  File \u001b[0;32m\"/var/folders/ls/stxb71s933g79808czg7z42m0000gn/T/ipykernel_1295/1421232558.py\"\u001b[0;36m, line \u001b[0;32m9\u001b[0m\n\u001b[0;31m    for j in range(1,(2n+2)-2i):\u001b[0m\n\u001b[0m                       ^\u001b[0m\n\u001b[0;31mSyntaxError\u001b[0m\u001b[0;31m:\u001b[0m invalid syntax\n"
     ]
    }
   ],
   "source": [
    "n=int(input())\n",
    "pattern_1=n\n",
    "\n",
    "for i in range (1,n+1):\n",
    "    pattern_3 = n\n",
    "    for k in range(1,i):\n",
    "        print(pattern_3,end=\"\")\n",
    "        pattern_3-=1\n",
    "    for j in range(1,(2n+2)-2i):\n",
    "        print(pattern_1,end=\"\")\n",
    "        pattern_1 -= 1\n",
    "\n",
    "    for l in range (1,i):\n",
    "        pattern_3+=1\n",
    "        print(pattern_3,end=\"\")\n",
    "    print(\"\")\n",
    "\n",
    "\n",
    "pattern_1=2\n",
    "\n",
    "for i in range (n,1,-1):\n",
    "    pattern_3 = n\n",
    "    for k in range(1,i):\n",
    "        print(pattern_3,end=\"\")\n",
    "        pattern_3-=1\n",
    "    for j in range (1,2n+2-2i):\n",
    "        print(pattern_1,end=\"\")\n",
    "    pattern_1+= 1\n",
    "\n",
    "    for l in range (1,i):\n",
    "        pattern_3+=1\n",
    "        print(pattern_3,end=\"\")\n",
    "    print(\"\")"
   ]
  },
  {
   "cell_type": "code",
   "execution_count": 1,
   "id": "174e4e54",
   "metadata": {},
   "outputs": [
    {
     "name": "stdout",
     "output_type": "stream",
     "text": [
      "8\n",
      "888888888888888\n",
      "877777777777778\n",
      "876666666666678\n",
      "876555555555678\n",
      "876544444445678\n",
      "876543333345678\n",
      "876543222345678\n",
      "876543212345678\n",
      "876543222345678\n",
      "876543333345678\n",
      "876544444445678\n",
      "876555555555678\n",
      "876666666666678\n",
      "877777777777778\n",
      "888888888888888\n"
     ]
    }
   ],
   "source": [
    "n=int(input())\n",
    "pattern_1=n\n",
    "\n",
    "for i in range (1,n+1):\n",
    "    pattern_3 = n\n",
    "    for k in range(1,i):\n",
    "        print(pattern_3,end=\"\")\n",
    "        pattern_3-=1\n",
    "    for j in range (1,2*n+2-2*i):\n",
    "        print(pattern_1,end=\"\")\n",
    "    pattern_1 -= 1\n",
    "\n",
    "    for l in range (1,i):\n",
    "        pattern_3+=1\n",
    "        print(pattern_3,end=\"\")\n",
    "    print(\"\")\n",
    "\n",
    "\n",
    "pattern_1=2\n",
    "\n",
    "for i in range (n,1,-1):\n",
    "    pattern_3 = n\n",
    "    for k in range(1,i):\n",
    "        print(pattern_3,end=\"\")\n",
    "        pattern_3-=1\n",
    "    for j in range (1,2*n+2-2*i):\n",
    "        print(pattern_1,end=\"\")\n",
    "    pattern_1+= 1\n",
    "\n",
    "    for l in range (1,i):\n",
    "        pattern_3+=1\n",
    "        print(pattern_3,end=\"\")\n",
    "    print(\"\")"
   ]
  },
  {
   "cell_type": "code",
   "execution_count": null,
   "id": "e5d3bf1b",
   "metadata": {},
   "outputs": [],
   "source": [
    "#farenhiet to celcius\n",
    "\n",
    "def printTable(start,end,step):\n",
    "    while start <= end:\n",
    "        c=5/9*(start-32)\n",
    "        print(start)\n",
    "\n",
    "\n",
    "\n"
   ]
  },
  {
   "cell_type": "code",
   "execution_count": 4,
   "id": "edff0664",
   "metadata": {},
   "outputs": [
    {
     "ename": "SyntaxError",
     "evalue": "invalid syntax (3595398432.py, line 2)",
     "output_type": "error",
     "traceback": [
      "\u001b[0;36m  File \u001b[0;32m\"/var/folders/ls/stxb71s933g79808czg7z42m0000gn/T/ipykernel_8633/3595398432.py\"\u001b[0;36m, line \u001b[0;32m2\u001b[0m\n\u001b[0;31m    if n=\"hi\":\u001b[0m\n\u001b[0m        ^\u001b[0m\n\u001b[0;31mSyntaxError\u001b[0m\u001b[0;31m:\u001b[0m invalid syntax\n"
     ]
    }
   ],
   "source": [
    "n=input()\n",
    "if n=:\n",
    "    print(\"hello\")\n",
    "else:\n",
    "    print(\"invalid\")\n"
   ]
  },
  {
   "cell_type": "code",
   "execution_count": null,
   "id": "27a71766",
   "metadata": {},
   "outputs": [],
   "source": []
  },
  {
   "cell_type": "code",
   "execution_count": null,
   "id": "7b9f4dd5",
   "metadata": {},
   "outputs": [],
   "source": []
  },
  {
   "cell_type": "code",
   "execution_count": null,
   "id": "bc777724",
   "metadata": {},
   "outputs": [],
   "source": []
  },
  {
   "cell_type": "code",
   "execution_count": null,
   "id": "857ea687",
   "metadata": {},
   "outputs": [],
   "source": []
  },
  {
   "cell_type": "code",
   "execution_count": null,
   "id": "b29540e3",
   "metadata": {},
   "outputs": [],
   "source": []
  },
  {
   "cell_type": "code",
   "execution_count": null,
   "id": "716559db",
   "metadata": {},
   "outputs": [],
   "source": []
  },
  {
   "cell_type": "code",
   "execution_count": null,
   "id": "e56b0216",
   "metadata": {},
   "outputs": [],
   "source": []
  },
  {
   "cell_type": "code",
   "execution_count": 5,
   "id": "cf3be610",
   "metadata": {},
   "outputs": [
    {
     "name": "stdout",
     "output_type": "stream",
     "text": [
      "5\n",
      "12345\n",
      " 2345\n",
      "  345\n",
      "   45\n",
      "    5\n",
      "   45\n",
      "  345\n",
      " 2345\n",
      "12345\n"
     ]
    }
   ],
   "source": [
    "n=int(input())\n",
    "for i in range(1,n+1):\n",
    "    for k in range(1,i):\n",
    "        print(\" \",end=\"\")\n",
    "    for j in range(i,n+1):\n",
    "        print(j,end=\"\")\n",
    "    print()\n",
    "for i in range(n-1,0,-1):\n",
    "    for k in range(1,i):\n",
    "        print(\" \",end=\"\")\n",
    "    for j in range(i,n+1):\n",
    "        print(j,end=\"\")\n",
    "    print()"
   ]
  },
  {
   "cell_type": "code",
   "execution_count": null,
   "id": "8e3063c9",
   "metadata": {},
   "outputs": [],
   "source": []
  },
  {
   "cell_type": "code",
   "execution_count": null,
   "id": "ddc761b5",
   "metadata": {},
   "outputs": [],
   "source": []
  },
  {
   "cell_type": "code",
   "execution_count": null,
   "id": "dc6e2726",
   "metadata": {},
   "outputs": [],
   "source": []
  },
  {
   "cell_type": "code",
   "execution_count": null,
   "id": "e98db075",
   "metadata": {},
   "outputs": [],
   "source": []
  },
  {
   "cell_type": "code",
   "execution_count": null,
   "id": "88093c14",
   "metadata": {},
   "outputs": [],
   "source": []
  },
  {
   "cell_type": "code",
   "execution_count": null,
   "id": "7fe37145",
   "metadata": {},
   "outputs": [],
   "source": []
  },
  {
   "cell_type": "code",
   "execution_count": null,
   "id": "a6e1f99b",
   "metadata": {},
   "outputs": [],
   "source": []
  },
  {
   "cell_type": "code",
   "execution_count": null,
   "id": "1df92dd2",
   "metadata": {},
   "outputs": [],
   "source": []
  },
  {
   "cell_type": "code",
   "execution_count": null,
   "id": "b0d7c9d1",
   "metadata": {},
   "outputs": [],
   "source": []
  },
  {
   "cell_type": "code",
   "execution_count": null,
   "id": "4c7f7281",
   "metadata": {},
   "outputs": [],
   "source": []
  },
  {
   "cell_type": "code",
   "execution_count": null,
   "id": "6dcc344b",
   "metadata": {},
   "outputs": [],
   "source": []
  },
  {
   "cell_type": "code",
   "execution_count": null,
   "id": "d7255f6b",
   "metadata": {},
   "outputs": [],
   "source": []
  },
  {
   "cell_type": "code",
   "execution_count": null,
   "id": "6d71a750",
   "metadata": {},
   "outputs": [],
   "source": []
  },
  {
   "cell_type": "code",
   "execution_count": null,
   "id": "c3312a6b",
   "metadata": {},
   "outputs": [],
   "source": []
  },
  {
   "cell_type": "code",
   "execution_count": null,
   "id": "969b56fc",
   "metadata": {},
   "outputs": [],
   "source": []
  },
  {
   "cell_type": "code",
   "execution_count": null,
   "id": "2b22da61",
   "metadata": {},
   "outputs": [],
   "source": []
  },
  {
   "cell_type": "code",
   "execution_count": null,
   "id": "61b77dd0",
   "metadata": {},
   "outputs": [],
   "source": []
  },
  {
   "cell_type": "code",
   "execution_count": null,
   "id": "225fa420",
   "metadata": {},
   "outputs": [],
   "source": []
  }
 ],
 "metadata": {
  "kernelspec": {
   "display_name": "Python 3.9.7 64-bit",
   "language": "python",
   "name": "python397jvsc74a57bd0aee8b7b246df8f9039afb4144a1f6fd8d2ca17a180786b69acc140d282b71a49"
  },
  "language_info": {
   "codemirror_mode": {
    "name": "ipython",
    "version": 3
   },
   "file_extension": ".py",
   "mimetype": "text/x-python",
   "name": "python",
   "nbconvert_exporter": "python",
   "pygments_lexer": "ipython3",
   "version": "3.9.7"
  }
 },
 "nbformat": 4,
 "nbformat_minor": 5
}
