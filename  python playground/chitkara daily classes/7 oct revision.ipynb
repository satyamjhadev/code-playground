{
 "cells": [
  {
   "cell_type": "code",
   "execution_count": 4,
   "id": "62af4a4f",
   "metadata": {},
   "outputs": [],
   "source": [
    "s='foobar'\n",
    "s=[-len(s)]    #will give me f\n",
    "\n",
    "s[2:5]   #will give oba\n",
    "s=[:4]#will give foob\n",
    "s=[0:4] #will give foob\n",
    "\n",
    "s[:4]+s[4]\n",
    "#fooba\n",
    "\n",
    "s=[:4]+s[4:]#foob + ar ==s\n",
    "\n",
    "\n",
    "\n",
    "\n"
   ]
  },
  {
   "cell_type": "code",
   "execution_count": 7,
   "id": "eb0fb65f",
   "metadata": {},
   "outputs": [
    {
     "name": "stdout",
     "output_type": "stream",
     "text": [
      "4580496688\n",
      "4580496688\n",
      "True\n"
     ]
    }
   ],
   "source": [
    "s='foobar'\n",
    "t=s[:]   #t is pointing to the same location as s\n",
    "\n",
    "print(id(s))\n",
    "print(id(t))\n",
    "print(s==t)\n",
    "\n",
    "\n"
   ]
  },
  {
   "cell_type": "code",
   "execution_count": 9,
   "id": "84fd3186",
   "metadata": {},
   "outputs": [
    {
     "ename": "SyntaxError",
     "evalue": "invalid syntax (1899153290.py, line 2)",
     "output_type": "error",
     "traceback": [
      "\u001b[0;36m  File \u001b[0;32m\"/var/folders/ls/stxb71s933g79808czg7z42m0000gn/T/ipykernel_39390/1899153290.py\"\u001b[0;36m, line \u001b[0;32m2\u001b[0m\n\u001b[0;31m    s=[-5:-2]==s[1:4]  #TRUE\u001b[0m\n\u001b[0m         ^\u001b[0m\n\u001b[0;31mSyntaxError\u001b[0m\u001b[0;31m:\u001b[0m invalid syntax\n"
     ]
    }
   ],
   "source": [
    "s='foobar' \n",
    "s=[-5:-2]==s[1:4] \n",
    "#TRUE\n",
    "\n",
    "\n",
    "\n",
    "print(s[::-1]) \n",
    " #it reverses the string   \n",
    "\n",
    "print(s[::-2])"
   ]
  },
  {
   "cell_type": "markdown",
   "id": "494c27f7",
   "metadata": {},
   "source": [
    "# print(s[::-1])   will reverse the s\n",
    "\n",
    "# here 1 is step value and - here indictes going from last letter."
   ]
  },
  {
   "cell_type": "code",
   "execution_count": 11,
   "id": "0b7df581",
   "metadata": {},
   "outputs": [
    {
     "name": "stdout",
     "output_type": "stream",
     "text": [
      "1234512345123451234512345\n"
     ]
    }
   ],
   "source": [
    "s='12345'*5\n",
    "\n",
    "print[::5]   #step 5\n",
    "  #11111\n",
    "    \n",
    "print(s[::-5])     #step -5  "
   ]
  },
  {
   "cell_type": "code",
   "execution_count": null,
   "id": "0c922cba",
   "metadata": {},
   "outputs": [],
   "source": [
    "\n",
    "a=10\n",
    "b=20\n",
    "prod=a*b\n",
    "print('the product of {} and {} is {}'.format(a,b,prod))\n",
    "\n",
    "\n",
    "\n",
    "\n",
    "\n"
   ]
  },
  {
   "cell_type": "code",
   "execution_count": 12,
   "id": "d092660d",
   "metadata": {},
   "outputs": [
    {
     "name": "stdout",
     "output_type": "stream",
     "text": [
      "the product of 10 and 20 is 200\n"
     ]
    }
   ],
   "source": [
    "a=10\n",
    "b=20\n",
    "prod=a*b\n",
    "print(f'the product of {a} and {b} is {prod}')\n",
    "\n",
    "#f string will work python 3.6 onwards"
   ]
  },
  {
   "cell_type": "code",
   "execution_count": null,
   "id": "2a4116d3",
   "metadata": {},
   "outputs": [],
   "source": [
    "#strings are immutable so we can change the content \n",
    "#list are muttable so we can change the the countent using commands like ammend/remove and more"
   ]
  },
  {
   "cell_type": "code",
   "execution_count": null,
   "id": "1aa07b96",
   "metadata": {},
   "outputs": [],
   "source": [
    "s='foobar'\n",
    "#s[3]='x'\n",
    "not allowed\n"
   ]
  },
  {
   "cell_type": "code",
   "execution_count": 13,
   "id": "c49f3391",
   "metadata": {},
   "outputs": [
    {
     "name": "stdout",
     "output_type": "stream",
     "text": [
      "fooxar\n"
     ]
    }
   ],
   "source": [
    "s='foobar'\n",
    "s=s[:3]+'x'+s[4:]   # it is working foo and appended x to it and ar\n",
    "print(s)     #by using = we are ressainging the new string to s"
   ]
  },
  {
   "cell_type": "code",
   "execution_count": 24,
   "id": "3aae9846",
   "metadata": {},
   "outputs": [
    {
     "name": "stdout",
     "output_type": "stream",
     "text": [
      "fooxar\n",
      "foobar\n"
     ]
    }
   ],
   "source": [
    "s='foobar'\n",
    "print(s[:3]+'x'+s[4:])   \n",
    "print(s) "
   ]
  },
  {
   "cell_type": "code",
   "execution_count": 28,
   "id": "0df26f54",
   "metadata": {},
   "outputs": [
    {
     "name": "stdout",
     "output_type": "stream",
     "text": [
      "4580496688\n",
      "4581542576\n",
      "fooxar\n",
      "4581549104\n",
      "foobar\n"
     ]
    }
   ],
   "source": [
    "s='foobar'\n",
    "print(id(s))\n",
    "s=s.replace('b','x')\n",
    "print(id(s))\n",
    "print(s)\n",
    "s=s.replace('x','b')\n",
    "print(id(s))\n",
    "print(s)\n",
    "            "
   ]
  },
  {
   "cell_type": "code",
   "execution_count": 29,
   "id": "b7d270bd",
   "metadata": {},
   "outputs": [
    {
     "name": "stdout",
     "output_type": "stream",
     "text": [
      "Ac xyz\n"
     ]
    }
   ],
   "source": [
    "x='ac xyz'\n",
    "print(x.capitalize())  #only first character will captalize"
   ]
  },
  {
   "cell_type": "code",
   "execution_count": 30,
   "id": "3de66b01",
   "metadata": {},
   "outputs": [
    {
     "name": "stdout",
     "output_type": "stream",
     "text": [
      "AbC XYz\n"
     ]
    }
   ],
   "source": [
    "x='aBc xyZ' \n",
    "print(x.swapcase())  #will do opposite captilazion"
   ]
  },
  {
   "cell_type": "code",
   "execution_count": 32,
   "id": "9cb7884d",
   "metadata": {},
   "outputs": [
    {
     "data": {
      "text/plain": [
       "'The Sun Also Rises'"
      ]
     },
     "execution_count": 32,
     "metadata": {},
     "output_type": "execute_result"
    }
   ],
   "source": [
    "'the sun also rises'.title()   #will only work in jupyter "
   ]
  },
  {
   "cell_type": "code",
   "execution_count": 33,
   "id": "62c06694",
   "metadata": {},
   "outputs": [
    {
     "data": {
      "text/plain": [
       "'THE SUN ALSO RISES'"
      ]
     },
     "execution_count": 33,
     "metadata": {},
     "output_type": "execute_result"
    }
   ],
   "source": [
    "'the sun also rises'.upper()"
   ]
  },
  {
   "cell_type": "code",
   "execution_count": 36,
   "id": "cb2bac6c",
   "metadata": {},
   "outputs": [
    {
     "data": {
      "text/plain": [
       "6"
      ]
     },
     "execution_count": 36,
     "metadata": {},
     "output_type": "execute_result"
    }
   ],
   "source": [
    "'foooooobar'.count('o')\n",
    "'foooooobar'.count('o')\n",
    "\n"
   ]
  },
  {
   "cell_type": "code",
   "execution_count": 37,
   "id": "c74b1443",
   "metadata": {},
   "outputs": [
    {
     "data": {
      "text/plain": [
       "3"
      ]
     },
     "execution_count": 37,
     "metadata": {},
     "output_type": "execute_result"
    }
   ],
   "source": [
    "'foooooobar'.count('oo')"
   ]
  },
  {
   "cell_type": "code",
   "execution_count": 38,
   "id": "4a191363",
   "metadata": {},
   "outputs": [
    {
     "data": {
      "text/plain": [
       "1"
      ]
     },
     "execution_count": 38,
     "metadata": {},
     "output_type": "execute_result"
    }
   ],
   "source": [
    "'foooooobar'.count('oooo')"
   ]
  },
  {
   "cell_type": "code",
   "execution_count": 40,
   "id": "714a5102",
   "metadata": {},
   "outputs": [
    {
     "data": {
      "text/plain": [
       "True"
      ]
     },
     "execution_count": 40,
     "metadata": {},
     "output_type": "execute_result"
    }
   ],
   "source": [
    "'foooooobar'.endswith('bar')"
   ]
  },
  {
   "cell_type": "code",
   "execution_count": 41,
   "id": "0a634f33",
   "metadata": {},
   "outputs": [
    {
     "data": {
      "text/plain": [
       "False"
      ]
     },
     "execution_count": 41,
     "metadata": {},
     "output_type": "execute_result"
    }
   ],
   "source": [
    "'foooooobar'.endswith('oo')"
   ]
  },
  {
   "cell_type": "code",
   "execution_count": 42,
   "id": "b84a9933",
   "metadata": {},
   "outputs": [
    {
     "data": {
      "text/plain": [
       "False"
      ]
     },
     "execution_count": 42,
     "metadata": {},
     "output_type": "execute_result"
    }
   ],
   "source": [
    "'foooooobar'.startswith('bar')"
   ]
  },
  {
   "cell_type": "code",
   "execution_count": 43,
   "id": "f96e03b9",
   "metadata": {},
   "outputs": [
    {
     "data": {
      "text/plain": [
       "True"
      ]
     },
     "execution_count": 43,
     "metadata": {},
     "output_type": "execute_result"
    }
   ],
   "source": [
    "'foooooobar'.startswith('fooo')"
   ]
  },
  {
   "cell_type": "code",
   "execution_count": 45,
   "id": "ab11d3ee",
   "metadata": {},
   "outputs": [
    {
     "data": {
      "text/plain": [
       "4"
      ]
     },
     "execution_count": 45,
     "metadata": {},
     "output_type": "execute_result"
    }
   ],
   "source": [
    "'Foo foo foo bar bar'.find('foo')  #will give index where foo has occured first\n",
    "\n",
    "\n",
    "\n"
   ]
  },
  {
   "cell_type": "code",
   "execution_count": 46,
   "id": "7b553c33",
   "metadata": {},
   "outputs": [
    {
     "data": {
      "text/plain": [
       "8"
      ]
     },
     "execution_count": 46,
     "metadata": {},
     "output_type": "execute_result"
    }
   ],
   "source": [
    "'Foo foo foo bar bar'.rfind('foo')  #rfind gives last occurance"
   ]
  },
  {
   "cell_type": "markdown",
   "id": "4e5cb4da",
   "metadata": {},
   "source": [
    "# find give first occurance and rfind gives last occurance."
   ]
  },
  {
   "cell_type": "code",
   "execution_count": 47,
   "id": "2ca77ab6",
   "metadata": {},
   "outputs": [
    {
     "data": {
      "text/plain": [
       "True"
      ]
     },
     "execution_count": 47,
     "metadata": {},
     "output_type": "execute_result"
    }
   ],
   "source": [
    "'abc'.isalpha() #isalpha checks string has only alphabets or not."
   ]
  },
  {
   "cell_type": "code",
   "execution_count": 49,
   "id": "12ac6810",
   "metadata": {},
   "outputs": [
    {
     "data": {
      "text/plain": [
       "False"
      ]
     },
     "execution_count": 49,
     "metadata": {},
     "output_type": "execute_result"
    }
   ],
   "source": [
    "'123a'.isdigit()  \n"
   ]
  },
  {
   "cell_type": "markdown",
   "id": "70f33590",
   "metadata": {},
   "source": []
  },
  {
   "cell_type": "code",
   "execution_count": null,
   "id": "69c66418",
   "metadata": {},
   "outputs": [],
   "source": []
  },
  {
   "cell_type": "code",
   "execution_count": null,
   "id": "edf25444",
   "metadata": {},
   "outputs": [],
   "source": []
  },
  {
   "cell_type": "code",
   "execution_count": null,
   "id": "9990fa28",
   "metadata": {},
   "outputs": [],
   "source": []
  },
  {
   "cell_type": "code",
   "execution_count": null,
   "id": "cc8978a8",
   "metadata": {},
   "outputs": [],
   "source": []
  },
  {
   "cell_type": "code",
   "execution_count": null,
   "id": "53107377",
   "metadata": {},
   "outputs": [],
   "source": []
  },
  {
   "cell_type": "code",
   "execution_count": null,
   "id": "d4b4a079",
   "metadata": {},
   "outputs": [],
   "source": []
  },
  {
   "cell_type": "code",
   "execution_count": null,
   "id": "134a86ca",
   "metadata": {},
   "outputs": [],
   "source": []
  },
  {
   "cell_type": "code",
   "execution_count": null,
   "id": "bd98b1e6",
   "metadata": {},
   "outputs": [],
   "source": []
  },
  {
   "cell_type": "code",
   "execution_count": null,
   "id": "fa716ccf",
   "metadata": {},
   "outputs": [],
   "source": []
  },
  {
   "cell_type": "code",
   "execution_count": null,
   "id": "94abe0c0",
   "metadata": {},
   "outputs": [],
   "source": []
  },
  {
   "cell_type": "code",
   "execution_count": null,
   "id": "e7f258cc",
   "metadata": {},
   "outputs": [],
   "source": []
  },
  {
   "cell_type": "code",
   "execution_count": null,
   "id": "09a98c30",
   "metadata": {},
   "outputs": [],
   "source": []
  }
 ],
 "metadata": {
  "kernelspec": {
   "display_name": "Python 3.9.7 64-bit",
   "language": "python",
   "name": "python397jvsc74a57bd0aee8b7b246df8f9039afb4144a1f6fd8d2ca17a180786b69acc140d282b71a49"
  },
  "language_info": {
   "codemirror_mode": {
    "name": "ipython",
    "version": 3
   },
   "file_extension": ".py",
   "mimetype": "text/x-python",
   "name": "python",
   "nbconvert_exporter": "python",
   "pygments_lexer": "ipython3",
   "version": "3.10.0"
  }
 },
 "nbformat": 4,
 "nbformat_minor": 5
}
