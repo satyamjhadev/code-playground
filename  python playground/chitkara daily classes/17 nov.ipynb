{
 "cells": [
  {
   "cell_type": "code",
   "execution_count": null,
   "id": "97c79519-3f33-44c7-b6bf-a7e1062d93c6",
   "metadata": {},
   "outputs": [],
   "source": [
    "# revision of sorting \n",
    "\n",
    "# 5\n",
    "# 10,2,-5,-6,1\n",
    "\n",
    "\n",
    "\n",
    "\n"
   ]
  },
  {
   "cell_type": "code",
   "execution_count": 1,
   "id": "60617c29-23ac-445d-a4a0-69e165595073",
   "metadata": {},
   "outputs": [
    {
     "name": "stdout",
     "output_type": "stream",
     "text": [
      "dnNw\n"
     ]
    }
   ],
   "source": [
    "my_list=['landon','Newyork']\n",
    "a='-'.join(my_list)\n",
    "b=a[3:10:2]\n",
    "print(b)"
   ]
  },
  {
   "cell_type": "code",
   "execution_count": 2,
   "id": "9203b00e-a7e5-49fe-8ed6-eabe6fbf7bf7",
   "metadata": {},
   "outputs": [
    {
     "name": "stdout",
     "output_type": "stream",
     "text": [
      "3.144444328418225\n",
      "4.13399430035795\n",
      "5.819423372542848\n",
      "3.127227355518059\n",
      "6.267568634115444\n",
      "6.5962734376986045\n",
      "3.5385356211305616\n",
      "3.1543225111934188\n",
      "6.374261866560239\n",
      "4.3826256395498016\n"
     ]
    }
   ],
   "source": [
    "import random\n",
    "def random_my():\n",
    "    return 4*random.random()+3\n",
    "for i in range(10):\n",
    "    print(random_my())\n"
   ]
  },
  {
   "cell_type": "code",
   "execution_count": null,
   "id": "87d48a0b-38bd-42ad-931a-b1443e1220c8",
   "metadata": {},
   "outputs": [],
   "source": [
    "l=[]\n",
    "for i in l:\n",
    "    sorted(l)\n",
    "print(l[])"
   ]
  },
  {
   "cell_type": "code",
   "execution_count": 1,
   "id": "6d31f6f7-2446-4837-ac71-634259a87a91",
   "metadata": {},
   "outputs": [
    {
     "name": "stdout",
     "output_type": "stream",
     "text": [
      "20\n"
     ]
    }
   ],
   "source": [
    "A=10\n",
    "B=20\n",
    "print(A and B)"
   ]
  },
  {
   "cell_type": "code",
   "execution_count": 3,
   "id": "dd357663-f2bd-4f4b-8260-541d39c31308",
   "metadata": {},
   "outputs": [
    {
     "name": "stdout",
     "output_type": "stream",
     "text": [
      "rtc\n"
     ]
    }
   ],
   "source": [
    "str=\"hello chitkara\"\n",
    "print(str[-2:-9:-3])"
   ]
  },
  {
   "cell_type": "code",
   "execution_count": 11,
   "id": "fbbba3cd-a2b5-4923-9d01-f9f6a28bebb5",
   "metadata": {},
   "outputs": [
    {
     "name": "stdout",
     "output_type": "stream",
     "text": [
      "['name', <built-in function id>, 'class']\n",
      "['R', 'a', 'j', 'e', 's', 'h']\n"
     ]
    }
   ],
   "source": [
    "Dic = {'name': 'Rajesh', id:101, 'class':'B. Tech'}\n",
    "print(list (Dic . keys()))\n",
    "print(list(Dic[ \"name\" ]))"
   ]
  },
  {
   "cell_type": "code",
   "execution_count": 15,
   "id": "87cae746-0973-4c27-b00d-0dd609d4cffc",
   "metadata": {},
   "outputs": [
    {
     "name": "stdout",
     "output_type": "stream",
     "text": [
      "[[2, 2, 3], [2, 3, 4], [3, 2, 3], [3, 2, 4]]\n"
     ]
    }
   ],
   "source": [
    "l1=[[2,2,3],[2,3,4]]\n",
    "l2=[[3,2,3],[3,2,4]]\n",
    "print(l1+l2)"
   ]
  },
  {
   "cell_type": "code",
   "execution_count": 17,
   "id": "6925b9ca-070e-4d84-a2db-6c03aba10556",
   "metadata": {},
   "outputs": [
    {
     "name": "stdout",
     "output_type": "stream",
     "text": [
      "Krishan\n",
      "['K', 'r', 'i', 's', 'h', 'a', 'n']\n"
     ]
    }
   ],
   "source": [
    "s=\"Rajesh Kumar\"\n",
    "def fun():\n",
    "    global s\n",
    "    s=\"Krishan\"\n",
    "    print(s)\n",
    "\n",
    "\n",
    "\n",
    "\n",
    "fun()\n",
    "print(list(s))"
   ]
  },
  {
   "cell_type": "code",
   "execution_count": 19,
   "id": "80370a38-9ce0-4dba-8f8d-c0b18cbb047f",
   "metadata": {},
   "outputs": [
    {
     "data": {
      "text/plain": [
       "0.23796462709189137"
      ]
     },
     "execution_count": 19,
     "metadata": {},
     "output_type": "execute_result"
    }
   ],
   "source": [
    "import random\n",
    "random.seed(3)\n",
    "random.random()"
   ]
  },
  {
   "cell_type": "code",
   "execution_count": 20,
   "id": "e605dcec-b8df-48da-926e-182f6d9ce371",
   "metadata": {},
   "outputs": [
    {
     "data": {
      "text/plain": [
       "0.23796462709189137"
      ]
     },
     "execution_count": 20,
     "metadata": {},
     "output_type": "execute_result"
    }
   ],
   "source": [
    "import random\n",
    "random.seed(3)\n",
    "random.random()"
   ]
  },
  {
   "cell_type": "code",
   "execution_count": 21,
   "id": "874e47ff-54b8-4266-83f7-b87b31c7c735",
   "metadata": {},
   "outputs": [
    {
     "data": {
      "text/plain": [
       "0.23796462709189137"
      ]
     },
     "execution_count": 21,
     "metadata": {},
     "output_type": "execute_result"
    }
   ],
   "source": [
    "import random\n",
    "random.seed(3)\n",
    "random.random()"
   ]
  },
  {
   "cell_type": "code",
   "execution_count": 23,
   "id": "461ea24d-7ffc-4a3f-9636-30871b1e4f6e",
   "metadata": {},
   "outputs": [
    {
     "name": "stdout",
     "output_type": "stream",
     "text": [
      "31 27 "
     ]
    }
   ],
   "source": [
    "I=30\n",
    "for I in range (I+1,25, -4):\n",
    "    print(I, end=\" \")\n"
   ]
  },
  {
   "cell_type": "code",
   "execution_count": 24,
   "id": "f54b7fcd-5bb5-4661-980a-dc1759556455",
   "metadata": {},
   "outputs": [
    {
     "name": "stdout",
     "output_type": "stream",
     "text": [
      "[['orangeYellow', 'MangoYellow'], ['orangeGreen', 'MangoGreen']]\n"
     ]
    }
   ],
   "source": [
    "l=[\"orange\", \"Mango\"]\n",
    "l1 =[\"Yellow\", \"Green\" ]\n",
    "l2 = [[x+y for x in l] for y in l1]\n",
    "print(l2)"
   ]
  },
  {
   "cell_type": "code",
   "execution_count": 45,
   "id": "8c9390ee-d48c-4ab9-af00-f11120f9562d",
   "metadata": {},
   "outputs": [
    {
     "ename": "IsADirectoryError",
     "evalue": "[Errno 21] Is a directory: 'aaa.txt'",
     "output_type": "error",
     "traceback": [
      "\u001b[0;31m---------------------------------------------------------------------------\u001b[0m",
      "\u001b[0;31mIsADirectoryError\u001b[0m                         Traceback (most recent call last)",
      "\u001b[0;32m/var/folders/ls/stxb71s933g79808czg7z42m0000gn/T/ipykernel_29600/3428291517.py\u001b[0m in \u001b[0;36m<module>\u001b[0;34m\u001b[0m\n\u001b[1;32m      1\u001b[0m \u001b[0mDic\u001b[0m\u001b[0;34m=\u001b[0m\u001b[0;34m{\u001b[0m\u001b[0;34m'name'\u001b[0m\u001b[0;34m:\u001b[0m\u001b[0;34m'Rajesh'\u001b[0m\u001b[0;34m,\u001b[0m \u001b[0;34m'id'\u001b[0m \u001b[0;34m:\u001b[0m\u001b[0;34m[\u001b[0m\u001b[0;36m101\u001b[0m\u001b[0;34m,\u001b[0m\u001b[0;36m102\u001b[0m\u001b[0;34m,\u001b[0m \u001b[0;36m104\u001b[0m\u001b[0;34m]\u001b[0m\u001b[0;34m,\u001b[0m \u001b[0;34m'class'\u001b[0m\u001b[0;34m:\u001b[0m \u001b[0;34m'B.Tech'\u001b[0m\u001b[0;34m}\u001b[0m\u001b[0;34m\u001b[0m\u001b[0;34m\u001b[0m\u001b[0m\n\u001b[0;32m----> 2\u001b[0;31m \u001b[0;32mwith\u001b[0m \u001b[0mopen\u001b[0m\u001b[0;34m(\u001b[0m\u001b[0;34m\"aaa.txt\"\u001b[0m\u001b[0;34m)\u001b[0m \u001b[0;32mas\u001b[0m \u001b[0mdb\u001b[0m\u001b[0;34m:\u001b[0m\u001b[0;34m\u001b[0m\u001b[0;34m\u001b[0m\u001b[0m\n\u001b[0m\u001b[1;32m      3\u001b[0m     \u001b[0mDic\u001b[0m\u001b[0;34m[\u001b[0m \u001b[0;34m'id'\u001b[0m\u001b[0;34m]\u001b[0m\u001b[0;34m[\u001b[0m\u001b[0;36m1\u001b[0m\u001b[0;34m]\u001b[0m \u001b[0;34m=\u001b[0m \u001b[0;34m(\u001b[0m\u001b[0;36m22\u001b[0m\u001b[0;34m)\u001b[0m\u001b[0;34m**\u001b[0m\u001b[0;36m2\u001b[0m\u001b[0;34m\u001b[0m\u001b[0;34m\u001b[0m\u001b[0m\n\u001b[1;32m      4\u001b[0m     \u001b[0mDic\u001b[0m\u001b[0;34m[\u001b[0m\u001b[0;34m'name'\u001b[0m\u001b[0;34m]\u001b[0m\u001b[0;34m=\u001b[0m\u001b[0;34m'rakesh'\u001b[0m\u001b[0;34m\u001b[0m\u001b[0;34m\u001b[0m\u001b[0m\n\u001b[1;32m      5\u001b[0m     \u001b[0;32mfor\u001b[0m \u001b[0mi\u001b[0m \u001b[0;32min\u001b[0m \u001b[0mDic\u001b[0m\u001b[0;34m.\u001b[0m\u001b[0mvalues\u001b[0m\u001b[0;34m(\u001b[0m\u001b[0;34m)\u001b[0m\u001b[0;34m:\u001b[0m\u001b[0;34m\u001b[0m\u001b[0;34m\u001b[0m\u001b[0m\n",
      "\u001b[0;31mIsADirectoryError\u001b[0m: [Errno 21] Is a directory: 'aaa.txt'"
     ]
    }
   ],
   "source": [
    "Dic={'name':'Rajesh', 'id' :[101,102, 104], 'class': 'B.Tech'}\n",
    "with open(\"aaa.txt\") as db:\n",
    "    Dic[ 'id'][1] = (22)**2\n",
    "    Dic['name']='rakesh'\n",
    "    for i in Dic.values():\n",
    "           print(i)\n",
    "     \n",
    "\n",
    "\n",
    "\n"
   ]
  },
  {
   "cell_type": "code",
   "execution_count": 31,
   "id": "f76b562c-9187-4067-a39d-14b75a097599",
   "metadata": {},
   "outputs": [
    {
     "ename": "TypeError",
     "evalue": "'str' object is not callable",
     "output_type": "error",
     "traceback": [
      "\u001b[0;31m---------------------------------------------------------------------------\u001b[0m",
      "\u001b[0;31mTypeError\u001b[0m                                 Traceback (most recent call last)",
      "\u001b[0;32m/var/folders/ls/stxb71s933g79808czg7z42m0000gn/T/ipykernel_29600/1936974949.py\u001b[0m in \u001b[0;36m<module>\u001b[0;34m\u001b[0m\n\u001b[1;32m      1\u001b[0m \u001b[0mtest_list\u001b[0m \u001b[0;34m=\u001b[0m \u001b[0;34m[\u001b[0m\u001b[0;34m[\u001b[0m \u001b[0;34m'Rash'\u001b[0m\u001b[0;34m,\u001b[0m \u001b[0;36m4\u001b[0m\u001b[0;34m,\u001b[0m \u001b[0;36m28\u001b[0m\u001b[0;34m]\u001b[0m\u001b[0;34m,\u001b[0m \u001b[0;34m[\u001b[0m\u001b[0;34m'Varsha'\u001b[0m\u001b[0;34m,\u001b[0m \u001b[0;36m2\u001b[0m\u001b[0;34m,\u001b[0m \u001b[0;36m20\u001b[0m\u001b[0;34m]\u001b[0m\u001b[0;34m,\u001b[0m \u001b[0;34m[\u001b[0m\u001b[0;34m'Nikhil'\u001b[0m\u001b[0;34m,\u001b[0m \u001b[0;36m1\u001b[0m\u001b[0;34m,\u001b[0m \u001b[0;36m20\u001b[0m\u001b[0;34m]\u001b[0m\u001b[0;34m,\u001b[0m \u001b[0;34m[\u001b[0m\u001b[0;34m'Akshat'\u001b[0m\u001b[0;34m,\u001b[0m \u001b[0;36m3\u001b[0m\u001b[0;34m,\u001b[0m \u001b[0;36m21\u001b[0m\u001b[0;34m]\u001b[0m\u001b[0;34m]\u001b[0m\u001b[0;34m\u001b[0m\u001b[0;34m\u001b[0m\u001b[0m\n\u001b[1;32m      2\u001b[0m \u001b[0mtest_list\u001b[0m\u001b[0;34m.\u001b[0m\u001b[0msort\u001b[0m\u001b[0;34m(\u001b[0m\u001b[0mkey\u001b[0m \u001b[0;34m=\u001b[0m \u001b[0;32mlambda\u001b[0m \u001b[0mtest_list\u001b[0m\u001b[0;34m:\u001b[0m \u001b[0mtest_list\u001b[0m\u001b[0;34m[\u001b[0m\u001b[0;36m2\u001b[0m\u001b[0;34m]\u001b[0m\u001b[0;34m)\u001b[0m\u001b[0;34m\u001b[0m\u001b[0;34m\u001b[0m\u001b[0m\n\u001b[0;32m----> 3\u001b[0;31m \u001b[0mprint\u001b[0m\u001b[0;34m(\u001b[0m\u001b[0mstr\u001b[0m\u001b[0;34m(\u001b[0m\u001b[0mtest_list\u001b[0m\u001b[0;34m[\u001b[0m\u001b[0;36m1\u001b[0m\u001b[0;34m]\u001b[0m\u001b[0;34m)\u001b[0m\u001b[0;34m)\u001b[0m\u001b[0;34m\u001b[0m\u001b[0;34m\u001b[0m\u001b[0m\n\u001b[0m",
      "\u001b[0;31mTypeError\u001b[0m: 'str' object is not callable"
     ]
    }
   ],
   "source": [
    "test_list = [[ 'Rash', 4, 28], ['Varsha', 2, 20], ['Nikhil', 1, 20], ['Akshat', 3, 21]]\n",
    "test_list.sort(key = lambda test_list: test_list[2])\n",
    "print(str(test_list[1]))"
   ]
  },
  {
   "cell_type": "code",
   "execution_count": 33,
   "id": "62965040-3115-497f-ba58-0b94a0a2a03d",
   "metadata": {},
   "outputs": [
    {
     "ename": "TypeError",
     "evalue": "'str' object is not callable",
     "output_type": "error",
     "traceback": [
      "\u001b[0;31m---------------------------------------------------------------------------\u001b[0m",
      "\u001b[0;31mTypeError\u001b[0m                                 Traceback (most recent call last)",
      "\u001b[0;32m/var/folders/ls/stxb71s933g79808czg7z42m0000gn/T/ipykernel_29600/1897603176.py\u001b[0m in \u001b[0;36m<module>\u001b[0;34m\u001b[0m\n\u001b[1;32m      1\u001b[0m \u001b[0mtest_list\u001b[0m \u001b[0;34m=\u001b[0m \u001b[0;34m[\u001b[0m\u001b[0;34m[\u001b[0m \u001b[0;34m'Rash'\u001b[0m\u001b[0;34m,\u001b[0m \u001b[0;36m4\u001b[0m\u001b[0;34m,\u001b[0m \u001b[0;36m28\u001b[0m\u001b[0;34m]\u001b[0m\u001b[0;34m,\u001b[0m \u001b[0;34m[\u001b[0m\u001b[0;34m'Varsha'\u001b[0m\u001b[0;34m,\u001b[0m \u001b[0;36m2\u001b[0m\u001b[0;34m,\u001b[0m \u001b[0;36m20\u001b[0m\u001b[0;34m]\u001b[0m\u001b[0;34m,\u001b[0m \u001b[0;34m[\u001b[0m\u001b[0;34m'Nikhil'\u001b[0m\u001b[0;34m,\u001b[0m \u001b[0;36m1\u001b[0m\u001b[0;34m,\u001b[0m \u001b[0;36m20\u001b[0m\u001b[0;34m]\u001b[0m\u001b[0;34m,\u001b[0m \u001b[0;34m[\u001b[0m\u001b[0;34m'Akshat'\u001b[0m\u001b[0;34m,\u001b[0m \u001b[0;36m3\u001b[0m\u001b[0;34m,\u001b[0m \u001b[0;36m21\u001b[0m\u001b[0;34m]\u001b[0m\u001b[0;34m]\u001b[0m\u001b[0;34m\u001b[0m\u001b[0;34m\u001b[0m\u001b[0m\n\u001b[1;32m      2\u001b[0m \u001b[0mtest_list\u001b[0m\u001b[0;34m.\u001b[0m\u001b[0msort\u001b[0m\u001b[0;34m(\u001b[0m\u001b[0mkey\u001b[0m \u001b[0;34m=\u001b[0m \u001b[0;32mlambda\u001b[0m \u001b[0mtest_list\u001b[0m\u001b[0;34m:\u001b[0m \u001b[0mtest_list\u001b[0m\u001b[0;34m[\u001b[0m\u001b[0;36m2\u001b[0m\u001b[0;34m]\u001b[0m\u001b[0;34m)\u001b[0m\u001b[0;34m\u001b[0m\u001b[0;34m\u001b[0m\u001b[0m\n\u001b[0;32m----> 3\u001b[0;31m \u001b[0mprint\u001b[0m \u001b[0;34m(\u001b[0m\u001b[0mstr\u001b[0m\u001b[0;34m(\u001b[0m\u001b[0mtest_list\u001b[0m\u001b[0;34m[\u001b[0m\u001b[0;36m1\u001b[0m\u001b[0;34m]\u001b[0m\u001b[0;34m)\u001b[0m\u001b[0;34m)\u001b[0m\u001b[0;34m\u001b[0m\u001b[0;34m\u001b[0m\u001b[0m\n\u001b[0m",
      "\u001b[0;31mTypeError\u001b[0m: 'str' object is not callable"
     ]
    }
   ],
   "source": [
    "test_list = [[ 'Rash', 4, 28], ['Varsha', 2, 20], ['Nikhil', 1, 20], ['Akshat', 3, 21]]\n",
    "test_list.sort(key = lambda test_list: test_list[2])\n",
    "print(str(test_list[1]))"
   ]
  },
  {
   "cell_type": "code",
   "execution_count": 37,
   "id": "2f67660b-ffe5-4391-905e-565fe81ac0bf",
   "metadata": {},
   "outputs": [
    {
     "name": "stdout",
     "output_type": "stream",
     "text": [
      "ytisrevinU araktihC\n"
     ]
    }
   ],
   "source": [
    "def abc(s):\n",
    "    if len(s) == 0:\n",
    "        return s\n",
    "\n",
    "\n",
    "    else:\n",
    "        return abc (s[1:])+ s[0]\n",
    "s = \"Chitkara University\"\n",
    "print (abc (s))"
   ]
  },
  {
   "cell_type": "code",
   "execution_count": 41,
   "id": "027b810f-fa51-4a1a-bdff-9685777f9d25",
   "metadata": {},
   "outputs": [
    {
     "name": "stdout",
     "output_type": "stream",
     "text": [
      "CHITKARA Punjab\n"
     ]
    }
   ],
   "source": [
    "n=\"Chitkara University\"\n",
    "m=n[:5].strip().split()\n",
    "a=m+[ 'ara']+[\"Punjab\"]\n",
    "b=a[0]+a[1]\n",
    "c=b.upper()\n",
    "print (c,a[2])"
   ]
  },
  {
   "cell_type": "code",
   "execution_count": 42,
   "id": "a457827a-c436-47ec-8825-7ddd05f51cda",
   "metadata": {},
   "outputs": [
    {
     "name": "stdout",
     "output_type": "stream",
     "text": [
      "1\n"
     ]
    }
   ],
   "source": [
    "A=[[2,1,2],[4,3,4], [4,5,3]]\n",
    "B=[[4,2,4],[4,3,5], [10,4,3]]\n",
    "C=[B[row][ col]-A[row][ col] for row in range (2) for col in range (2)]\n",
    "D={i:i**2 for i in C}\n",
    "F=D[1]\n",
    "print(F)"
   ]
  },
  {
   "cell_type": "code",
   "execution_count": 43,
   "id": "d4744a91-c23d-4a7e-acff-882f5f7eaded",
   "metadata": {},
   "outputs": [
    {
     "ename": "SyntaxError",
     "evalue": "EOL while scanning string literal (1621730316.py, line 2)",
     "output_type": "error",
     "traceback": [
      "\u001b[0;36m  File \u001b[0;32m\"/var/folders/ls/stxb71s933g79808czg7z42m0000gn/T/ipykernel_29600/1621730316.py\"\u001b[0;36m, line \u001b[0;32m2\u001b[0m\n\u001b[0;31m    with open(\"aaa.txt') as db:\u001b[0m\n\u001b[0m                               ^\u001b[0m\n\u001b[0;31mSyntaxError\u001b[0m\u001b[0;31m:\u001b[0m EOL while scanning string literal\n"
     ]
    }
   ],
   "source": [
    "Dic = {'name\"': 'Rajesh', 'id' :[101, 102, 104], 'class' : 'B. Tech'}\n",
    "with open(\"aaa.txt') as db:\n",
    "Dic['id'][1] = (22)**2\n",
    "Dic[ 'name' ]='rakesh\n",
    "for i in Dic.values ()\n",
    "print (i)"
   ]
  },
  {
   "cell_type": "code",
   "execution_count": null,
   "id": "b619fa39-75bc-4b3e-89e8-25be51037c59",
   "metadata": {},
   "outputs": [],
   "source": []
  }
 ],
 "metadata": {
  "kernelspec": {
   "display_name": "Python 3.9.7 64-bit",
   "language": "python",
   "name": "python397jvsc74a57bd0397704579725e15f5c7cb49fe5f0341eb7531c82d19f2c29d197e8b64ab5776b"
  },
  "language_info": {
   "codemirror_mode": {
    "name": "ipython",
    "version": 3
   },
   "file_extension": ".py",
   "mimetype": "text/x-python",
   "name": "python",
   "nbconvert_exporter": "python",
   "pygments_lexer": "ipython3",
   "version": "3.9.7"
  }
 },
 "nbformat": 4,
 "nbformat_minor": 5
}
