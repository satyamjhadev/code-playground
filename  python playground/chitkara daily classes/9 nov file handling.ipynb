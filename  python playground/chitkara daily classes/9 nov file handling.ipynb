{
 "cells": [
  {
   "cell_type": "code",
   "execution_count": 1,
   "id": "9c7d7183",
   "metadata": {},
   "outputs": [],
   "source": [
    "f=open(\"demofile.txt\",\"w\")\n",
    "f.write(\"a\")\n",
    "f.write(\"b\")\n",
    "f.write(\"c\")\n",
    "\n",
    "f.close()\n",
    "\n",
    "f.write(\"b\")\n",
    "# it will create demofile text file in current folder in which we are working.\n",
    "# f is variable we have defined.\n",
    "# w indicates write mode the file."
   ]
  },
  {
   "cell_type": "code",
   "execution_count": 5,
   "id": "7a8c1fe3",
   "metadata": {},
   "outputs": [
    {
     "name": "stdout",
     "output_type": "stream",
     "text": [
      "A\n",
      "b\n",
      "c\n",
      "\n"
     ]
    }
   ],
   "source": [
    "f=open(\"demofile.txt\",\"w\")\n",
    "f.write(\"A\\n\")\n",
    "f.write(\"b\\n\")\n",
    "f.write(\"c\\n\")\n",
    "\n",
    "f.close()\n",
    "f=open(\"demofile.txt\",\"r\")\n",
    "print(f.read())\n",
    "\n",
    "# r indicates read mode.\n",
    "# upon changing the content inside it is overwriting the existing file.\n",
    "# we can also mention the location of the directory if we don't want the file in other directory.\n",
    "\n",
    "\n"
   ]
  },
  {
   "cell_type": "code",
   "execution_count": 7,
   "id": "3cde424b",
   "metadata": {},
   "outputs": [
    {
     "name": "stdout",
     "output_type": "stream",
     "text": [
      "A\n",
      "b\n",
      "c\n",
      "\n",
      "Now more content\n",
      "Now more content\n"
     ]
    }
   ],
   "source": [
    "# using the file using append mode to add more content.\n",
    "f=open(\"demofile.txt\",\"a\")\n",
    "f.write(\"\\nNow more content\")\n",
    "f.close()\n",
    "\n",
    "# opening and read the file after the appending.\n",
    "f=open(\"demofile.txt\",\"r\")\n",
    "print(f.read())\n",
    "f.close()\n",
    "\n",
    "# /n takes the cursor on the next line.\n"
   ]
  },
  {
   "cell_type": "code",
   "execution_count": 8,
   "id": "f6cfcb85",
   "metadata": {},
   "outputs": [
    {
     "ename": "FileNotFoundError",
     "evalue": "[Errno 2] No such file or directory: 'demo.txt'",
     "output_type": "error",
     "traceback": [
      "\u001b[0;31m---------------------------------------------------------------------------\u001b[0m",
      "\u001b[0;31mFileNotFoundError\u001b[0m                         Traceback (most recent call last)",
      "\u001b[0;32m/var/folders/ls/stxb71s933g79808czg7z42m0000gn/T/ipykernel_4639/2142202117.py\u001b[0m in \u001b[0;36m<module>\u001b[0;34m\u001b[0m\n\u001b[1;32m      1\u001b[0m \u001b[0;31m# in import os we will using os.remove to remove the file.\u001b[0m\u001b[0;34m\u001b[0m\u001b[0;34m\u001b[0m\u001b[0m\n\u001b[1;32m      2\u001b[0m \u001b[0;32mimport\u001b[0m \u001b[0mos\u001b[0m\u001b[0;34m\u001b[0m\u001b[0;34m\u001b[0m\u001b[0m\n\u001b[0;32m----> 3\u001b[0;31m \u001b[0mos\u001b[0m\u001b[0;34m.\u001b[0m\u001b[0mremove\u001b[0m\u001b[0;34m(\u001b[0m\u001b[0;34m\"demo.txt\"\u001b[0m\u001b[0;34m)\u001b[0m\u001b[0;34m\u001b[0m\u001b[0;34m\u001b[0m\u001b[0m\n\u001b[0m\u001b[1;32m      4\u001b[0m \u001b[0;34m\u001b[0m\u001b[0m\n",
      "\u001b[0;31mFileNotFoundError\u001b[0m: [Errno 2] No such file or directory: 'demo.txt'"
     ]
    }
   ],
   "source": [
    "# in import os we will using os.remove to remove the file.\n",
    "import os\n",
    "os.remove(\"demo.txt\")\n",
    "\n"
   ]
  },
  {
   "cell_type": "code",
   "execution_count": 9,
   "id": "41487d0f",
   "metadata": {},
   "outputs": [
    {
     "name": "stdout",
     "output_type": "stream",
     "text": [
      "the file not exist\n"
     ]
    }
   ],
   "source": [
    "import os\n",
    "if os.path.exists('demo.txt'):\n",
    "    os.remove(\"demo.txt\")\n",
    "else:\n",
    "    print(\"the file not exist\")"
   ]
  },
  {
   "cell_type": "code",
   "execution_count": 11,
   "id": "d5315762",
   "metadata": {},
   "outputs": [],
   "source": [
    "# first we have to close the file in order to delete that file.\n",
    "#os.rmdir is used to remove the directory.\n",
    "\n",
    "import os\n",
    "os.rmdir(\"ABC\")\n",
    "\n",
    "\n"
   ]
  },
  {
   "cell_type": "code",
   "execution_count": 12,
   "id": "c775256c",
   "metadata": {},
   "outputs": [
    {
     "name": "stdout",
     "output_type": "stream",
     "text": [
      "A\n",
      "b\n",
      "c\n",
      "\n",
      "Now more content\n",
      "Now more content\n",
      "Now more content\n",
      "\n"
     ]
    }
   ],
   "source": [
    "f=open(\"demofile.txt\",\"a\")\n",
    "f.write(\"\\nNow more content\")\n",
    "f.close()\n",
    "\n",
    "# opening and read the file after the appending.\n",
    "f=open(\"demofile.txt\",\"r\")\n",
    "print(f.read())\n",
    "content=f.read(1800)\n",
    "print(content)\n",
    "f.close()"
   ]
  },
  {
   "cell_type": "code",
   "execution_count": 19,
   "id": "8078df23",
   "metadata": {},
   "outputs": [
    {
     "ename": "ValueError",
     "evalue": "I/O operation on closed file.",
     "output_type": "error",
     "traceback": [
      "\u001b[0;31m---------------------------------------------------------------------------\u001b[0m",
      "\u001b[0;31mValueError\u001b[0m                                Traceback (most recent call last)",
      "\u001b[0;32m/var/folders/ls/stxb71s933g79808czg7z42m0000gn/T/ipykernel_4639/3880168826.py\u001b[0m in \u001b[0;36m<module>\u001b[0;34m\u001b[0m\n\u001b[1;32m      5\u001b[0m \u001b[0mf\u001b[0m\u001b[0;34m.\u001b[0m\u001b[0mwrite\u001b[0m\u001b[0;34m(\u001b[0m\u001b[0;34m\"Word can be anything\"\u001b[0m\u001b[0;34m)\u001b[0m\u001b[0;34m\u001b[0m\u001b[0;34m\u001b[0m\u001b[0m\n\u001b[1;32m      6\u001b[0m \u001b[0mf\u001b[0m\u001b[0;34m.\u001b[0m\u001b[0mclose\u001b[0m\u001b[0;34m(\u001b[0m\u001b[0;34m)\u001b[0m\u001b[0;34m\u001b[0m\u001b[0;34m\u001b[0m\u001b[0m\n\u001b[0;32m----> 7\u001b[0;31m \u001b[0mcontent\u001b[0m\u001b[0;34m=\u001b[0m\u001b[0mf\u001b[0m\u001b[0;34m.\u001b[0m\u001b[0mread\u001b[0m\u001b[0;34m(\u001b[0m\u001b[0;36m6\u001b[0m\u001b[0;34m)\u001b[0m\u001b[0;34m\u001b[0m\u001b[0;34m\u001b[0m\u001b[0m\n\u001b[0m",
      "\u001b[0;31mValueError\u001b[0m: I/O operation on closed file."
     ]
    }
   ],
   "source": [
    "f=open(\"satyamfile.txt\",\"w\")\n",
    "\n",
    "f.write(\"He is good boy\")\n",
    "f.write(\"boy is a good word\")\n",
    "f.write(\"Word can be anything\")\n",
    "f.close()\n",
    "content=f.read(6)"
   ]
  },
  {
   "cell_type": "code",
   "execution_count": 21,
   "id": "37dd587c",
   "metadata": {},
   "outputs": [
    {
     "name": "stdout",
     "output_type": "stream",
     "text": [
      "python is awesome\n",
      "I love python\n",
      "['python is awesome\\n', 'I love python']\n"
     ]
    }
   ],
   "source": [
    "# always close the file asap\n",
    "with open(\"satyamfile1.txt\",\"w\") as d:\n",
    "    d.write(\"python is awesome\\n\")\n",
    "    d.write(\"I love python\")\n",
    "    \n",
    "with open(\"satyamfile1.txt\",\"r\") as d:\n",
    "    print(d.read())\n",
    "\n",
    "with open(\"satyamfile1.txt\",\"r\") as d:\n",
    "    lines=d.readlines()\n",
    "    print(lines)\n",
    "# by using \"with syntax \" it will close the file after print \n",
    "# readline will read one line at a time as alist.\n"
   ]
  },
  {
   "cell_type": "code",
   "execution_count": 22,
   "id": "ce68bfc1",
   "metadata": {},
   "outputs": [
    {
     "name": "stdout",
     "output_type": "stream",
     "text": [
      "['js ia also awsome \\n', 'js is my second programming language.']\n"
     ]
    }
   ],
   "source": [
    "with open(\"javascript.txt\",\"w\") as f:\n",
    "    lines=[\"js ia also awsome \",\"\\njs is my second programming language.\"]\n",
    "    f.writelines(lines)\n",
    "with open (\"javascript.txt\",\"r\") as f:\n",
    "    lines=f.readlines()\n",
    "    print(lines)\n",
    "    \n",
    "# writeline is used to write in aline."
   ]
  },
  {
   "cell_type": "code",
   "execution_count": null,
   "id": "25def922",
   "metadata": {},
   "outputs": [],
   "source": [
    "# r+ means if it read and write the content in a file\n",
    "# w+ CAN create a file if it doesn't exist and also it can read the file.\n",
    "\n",
    "#f.seek(0) is used to go to (0)(beginiing) and read the content.\n",
    "\n",
    "#\n",
    "#\n",
    "#\n",
    "with open(\"app1.log\",\"w+\") as f:\n",
    "    f.write(\"it is my first file\\n\")\n",
    "    f.write(\"it \")\n",
    "    \n",
    "    \n",
    "\n",
    "\n"
   ]
  }
 ],
 "metadata": {
  "kernelspec": {
   "display_name": "Python 3.9.7 64-bit",
   "language": "python",
   "name": "python397jvsc74a57bd0aee8b7b246df8f9039afb4144a1f6fd8d2ca17a180786b69acc140d282b71a49"
  },
  "language_info": {
   "codemirror_mode": {
    "name": "ipython",
    "version": 3
   },
   "file_extension": ".py",
   "mimetype": "text/x-python",
   "name": "python",
   "nbconvert_exporter": "python",
   "pygments_lexer": "ipython3",
   "version": "3.10.0"
  }
 },
 "nbformat": 4,
 "nbformat_minor": 5
}
