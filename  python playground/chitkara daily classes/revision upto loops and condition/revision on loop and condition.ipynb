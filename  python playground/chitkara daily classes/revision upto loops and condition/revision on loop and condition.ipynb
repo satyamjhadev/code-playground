{
 "cells": [
  {
   "cell_type": "code",
   "execution_count": 50,
   "id": "bb3bb467",
   "metadata": {},
   "outputs": [
    {
     "name": "stdout",
     "output_type": "stream",
     "text": [
      "10\n",
      "140256183773776\n",
      "<class 'int'>\n"
     ]
    },
    {
     "data": {
      "text/plain": [
       "'satyam jha is a great develper satyam jha is a great develper satyam jha is a great develper satyam jha is a great develper satyam jha is a great develper satyam jha is a great develper satyam jha is a great develper satyam jha is a great develper satyam jha is a great develper satyam jha is a great develper '"
      ]
     },
     "execution_count": 50,
     "metadata": {},
     "output_type": "execute_result"
    }
   ],
   "source": [
    "a=10\n",
    "print(a)\n",
    "print(id(a))\n",
    "print(type(a))\n",
    "...\n",
    "#id is used to check adrees assinged by python\n",
    "#type is used to determine data type\n",
    "...\n",
    "\n",
    "\n",
    "\n",
    "\n",
    "#print() gives us spacing and moves the cursor to the next line.\n",
    "a=10\n",
    "a=a+4\n",
    "a\n",
    "\n",
    "\n",
    "a=True\n",
    "b=False\n",
    "a==b\n",
    "\n",
    "#hello world\n",
    "name = \"satyam jha is a great develper \"*10\n",
    "name"
   ]
  },
  {
   "cell_type": "code",
   "execution_count": 35,
   "id": "7279b8be",
   "metadata": {
    "scrolled": true
   },
   "outputs": [
    {
     "name": "stdout",
     "output_type": "stream",
     "text": [
      "the value of a is {} and b is {};.format(a,b)\n"
     ]
    }
   ],
   "source": [
    "#formatted output\n",
    "a=10\n",
    "b=20\n",
    "c=100\n",
    "print('the value of a is {} and b is {};.format(a,b)')\n"
   ]
  },
  {
   "cell_type": "markdown",
   "id": "8ee89e35",
   "metadata": {},
   "source": [
    "#arithmetic operations\n",
    "\n",
    "\n"
   ]
  },
  {
   "cell_type": "code",
   "execution_count": 52,
   "id": "0a5e02b4",
   "metadata": {},
   "outputs": [
    {
     "name": "stdout",
     "output_type": "stream",
     "text": [
      "the sum of 10 and 3 is 13\n",
      "the diff of 3 and 10 is -7\n",
      "the product of 10 and 3 is 30\n",
      "the exponential value of 10 to 3 is 1000\n"
     ]
    }
   ],
   "source": [
    "a=10\n",
    "b=3\n",
    "print(\"the sum of {} and {} is {}\".format(a,b,a+b))\n",
    "print(\"the diff of {} and {} is {}\".format(b,a,b-a))\n",
    "print(\"the product of {} and {} is {}\".format(a,b,a*b))\n",
    "print(\"the exponential value of {} to {} is {}\".format(a,b,a**b))\n"
   ]
  },
  {
   "cell_type": "code",
   "execution_count": 53,
   "id": "5f1456ab",
   "metadata": {},
   "outputs": [
    {
     "name": "stdout",
     "output_type": "stream",
     "text": [
      "20\n"
     ]
    }
   ],
   "source": [
    "#some maths with python\n",
    "print((2+3)*4)\n",
    "print"
   ]
  },
  {
   "cell_type": "code",
   "execution_count": null,
   "id": "dde57ef7",
   "metadata": {},
   "outputs": [],
   "source": [
    "#wap for converting temp in celcius from farehiet.\n",
    "F=float(input())\n",
    "C=(F-32)*5/9\n",
    "print(\"{} Farenheit is {} in Celcius\".format(F,C))"
   ]
  },
  {
   "cell_type": "code",
   "execution_count": 91,
   "id": "816160cc",
   "metadata": {},
   "outputs": [
    {
     "name": "stdout",
     "output_type": "stream",
     "text": [
      "5\n",
      "5\n",
      "area is 78.54\n",
      "volume is 235.619\n"
     ]
    }
   ],
   "source": [
    "import math\n",
    "radius=int(input())\n",
    "lenth=int(input())\n",
    "area=(radius**2)*math.pi\n",
    "volume=area*length\n",
    "print(\"area is {:.2f}\".format(area))\n",
    "print('volume is {:.3f}'.format(volume))"
   ]
  },
  {
   "cell_type": "code",
   "execution_count": 59,
   "id": "0bef5541",
   "metadata": {},
   "outputs": [
    {
     "name": "stdout",
     "output_type": "stream",
     "text": [
      "3\n",
      "3\n",
      "area is 28.2743338823\n",
      "volume is 84.8230016469244105792313348501920700073242187500000000000000000000000000000000000000000000000000000000\n"
     ]
    }
   ],
   "source": [
    "#wap to calculate the volume \n",
    "import math\n",
    "radius=int(input())\n",
    "length=int(input())\n",
    "area=(radius**2)*math.pi\n",
    "volume=(area*length)\n",
    "print(\"area is {:.10f}\".format(area))\n",
    "print('volume is {:.100f}'.format(volume))"
   ]
  },
  {
   "cell_type": "code",
   "execution_count": 62,
   "id": "608c975b",
   "metadata": {},
   "outputs": [
    {
     "ename": "SyntaxError",
     "evalue": "EOL while scanning string literal (3752467674.py, line 4)",
     "output_type": "error",
     "traceback": [
      "\u001b[0;36m  File \u001b[0;32m\"/var/folders/ls/stxb71s933g79808czg7z42m0000gn/T/ipykernel_14604/3752467674.py\"\u001b[0;36m, line \u001b[0;32m4\u001b[0m\n\u001b[0;31m    print(\"{} f is in {}\".format(f,m)\")\u001b[0m\n\u001b[0m                                       ^\u001b[0m\n\u001b[0;31mSyntaxError\u001b[0m\u001b[0;31m:\u001b[0m EOL while scanning string literal\n"
     ]
    }
   ],
   "source": [
    "#read a no in feet convert it into meters and display the results\n",
    "f=float(input())\n",
    "\n",
    "f = 0.304\n",
    "print(\"{} f is in {}\".format(f,m)\")\n",
    "\n"
   ]
  },
  {
   "cell_type": "code",
   "execution_count": 68,
   "id": "ba3bb956",
   "metadata": {},
   "outputs": [
    {
     "name": "stdout",
     "output_type": "stream",
     "text": [
      "0\n",
      "yellow\n"
     ]
    }
   ],
   "source": [
    "#if else condition\n",
    "n=int(input())\n",
    "if n>10:\n",
    "    print(\"red\")\n",
    "elif n>=5:\n",
    "    print(\"blue\")\n",
    "else:\n",
    "    print(\"yellow\")\n",
    "\n",
    "    "
   ]
  },
  {
   "cell_type": "code",
   "execution_count": 76,
   "id": "ecea5c35",
   "metadata": {},
   "outputs": [
    {
     "name": "stdout",
     "output_type": "stream",
     "text": [
      "-1\n",
      "invalid input\n"
     ]
    }
   ],
   "source": [
    "cgpa=float(input())\n",
    "if cgpa >=9:\n",
    "    print(\"excellent\")\n",
    "elif cgpa>=7:\n",
    "    print(\"verygood\")\n",
    "elif cgpa>=5:\n",
    "    print(\"good\")\n",
    "elif cgpa>=3:\n",
    "    print(\"work hard and get >8 cgpa\")\n",
    "elif cgpa>=0:\n",
    "    print(\"very poor\")\n",
    "else:\n",
    "    print(\"invalid input\")\n"
   ]
  },
  {
   "cell_type": "code",
   "execution_count": 3,
   "id": "e785325c",
   "metadata": {},
   "outputs": [
    {
     "name": "stdout",
     "output_type": "stream",
     "text": [
      "9\n",
      "1                1\n",
      "12              21\n",
      "123            321\n",
      "1234          4321\n",
      "12345        54321\n",
      "123456      654321\n",
      "1234567    7654321\n",
      "12345678  87654321\n",
      "123456789987654321\n"
     ]
    }
   ],
   "source": [
    "n=int(input())\n",
    "totalspace=n*2-2\n",
    "row=1\n",
    "while(row<=n):\n",
    "    column=1\n",
    "    while column<=row:\n",
    "        print(column,end='')\n",
    "        column=column+1\n",
    "    space=1\n",
    "    while space<=totalspace:\n",
    "        print(' ',end=\"\")\n",
    "        space+=1\n",
    "    totalspace-=2\n",
    "    column=row\n",
    "    while column>0:\n",
    "        print(column,end='')\n",
    "        column-=1\n",
    "    row+=1\n",
    "    print()\n",
    "    "
   ]
  },
  {
   "cell_type": "code",
   "execution_count": null,
   "id": "e6e05426",
   "metadata": {},
   "outputs": [],
   "source": []
  },
  {
   "cell_type": "code",
   "execution_count": null,
   "id": "6c221184",
   "metadata": {},
   "outputs": [],
   "source": []
  },
  {
   "cell_type": "code",
   "execution_count": null,
   "id": "43a7e909",
   "metadata": {},
   "outputs": [],
   "source": []
  },
  {
   "cell_type": "code",
   "execution_count": 79,
   "id": "b60ac32e",
   "metadata": {},
   "outputs": [
    {
     "name": "stdout",
     "output_type": "stream",
     "text": [
      "18\n",
      "eligible to vote\n"
     ]
    }
   ],
   "source": [
    "age=int(input())\n",
    "if age >=18:\n",
    "    print(\"eligible to vote\")\n",
    "else:\n",
    "    print(\"not eligible to vote\")"
   ]
  },
  {
   "cell_type": "code",
   "execution_count": null,
   "id": "c575f537",
   "metadata": {},
   "outputs": [],
   "source": [
    "#atm problem of codechef\n",
    "#problem statement\n",
    "#Pooja would like to withdraw X $US from an ATM. The \n",
    "#cash machine will only accept the transaction if X is a multiple of 5, and #\n",
    "#Pooja's account balance has enough cash to perform the withdrawal transaction (including bank charges). #\n",
    "#For each successful withdrawal the bank charges 0.50 $US. \n",
    "#Calculate Pooja's account balance after an attempted transaction.\n",
    "withdrawl_amt,account_balance=input().split()\n",
    "withdrawl_amt=int(withdrawl_amt)\n",
    "account_balance=float(account_balance)\n",
    "bank_charges=0.50\n",
    "if withdrawl_amt%5==0 and (withdrawl_amt+0.50)<=account_balance:\n",
    "    account_balance=account_balance-withdrawl_amt-0.50\n",
    "else:\n",
    "    print(account_balance)\n",
    "\n",
    "\n",
    "\n",
    "\n",
    "\n",
    "\n",
    "\n",
    "\n",
    "\n",
    "\n",
    "\n",
    "\n",
    "\n",
    "\n",
    "\n",
    "\n",
    "\n",
    "\n",
    "\n",
    "\n",
    "\n",
    "\n",
    "\n"
   ]
  },
  {
   "cell_type": "code",
   "execution_count": null,
   "id": "b9036098",
   "metadata": {},
   "outputs": [],
   "source": [
    "#split fnc and map function\n",
    "#1 split fnc\n",
    "a=int(input())\n",
    "b=int(input())\n",
    "c=int(input())\n",
    "a,b,c=input().split()\n",
    "\n",
    "\n",
    "\n",
    "\n",
    "\n",
    "\n",
    "\n",
    "\n",
    "\n",
    "\n",
    "\n",
    "\n",
    "\n",
    "\n",
    "\n",
    "\n"
   ]
  },
  {
   "cell_type": "code",
   "execution_count": 84,
   "id": "a7bf944f",
   "metadata": {
    "scrolled": true
   },
   "outputs": [
    {
     "name": "stdout",
     "output_type": "stream",
     "text": [
      "50\n"
     ]
    },
    {
     "ename": "ValueError",
     "evalue": "not enough values to unpack (expected 2, got 1)",
     "output_type": "error",
     "traceback": [
      "\u001b[0;31m---------------------------------------------------------------------------\u001b[0m",
      "\u001b[0;31mValueError\u001b[0m                                Traceback (most recent call last)",
      "\u001b[0;32m/var/folders/ls/stxb71s933g79808czg7z42m0000gn/T/ipykernel_14604/3912139712.py\u001b[0m in \u001b[0;36m<module>\u001b[0;34m\u001b[0m\n\u001b[0;32m----> 1\u001b[0;31m \u001b[0mwithdrawl_amt\u001b[0m\u001b[0;34m,\u001b[0m\u001b[0maccount_balance\u001b[0m\u001b[0;34m=\u001b[0m\u001b[0minput\u001b[0m\u001b[0;34m(\u001b[0m\u001b[0;34m)\u001b[0m\u001b[0;34m.\u001b[0m\u001b[0msplit\u001b[0m\u001b[0;34m(\u001b[0m\u001b[0;34m)\u001b[0m\u001b[0;34m\u001b[0m\u001b[0;34m\u001b[0m\u001b[0m\n\u001b[0m\u001b[1;32m      2\u001b[0m \u001b[0mwithdrawl_amt\u001b[0m\u001b[0;34m=\u001b[0m\u001b[0mint\u001b[0m\u001b[0;34m(\u001b[0m\u001b[0mwithdrawl_amt\u001b[0m\u001b[0;34m)\u001b[0m\u001b[0;34m\u001b[0m\u001b[0;34m\u001b[0m\u001b[0m\n\u001b[1;32m      3\u001b[0m \u001b[0maccount_balance\u001b[0m\u001b[0;34m=\u001b[0m\u001b[0mfloat\u001b[0m\u001b[0;34m(\u001b[0m\u001b[0maccount_balance\u001b[0m\u001b[0;34m)\u001b[0m\u001b[0;34m\u001b[0m\u001b[0;34m\u001b[0m\u001b[0m\n\u001b[1;32m      4\u001b[0m \u001b[0mbank_charges\u001b[0m\u001b[0;34m=\u001b[0m\u001b[0;36m0.50\u001b[0m\u001b[0;34m\u001b[0m\u001b[0;34m\u001b[0m\u001b[0m\n\u001b[1;32m      5\u001b[0m \u001b[0;32mif\u001b[0m \u001b[0mwithdrawl_amt\u001b[0m\u001b[0;34m%\u001b[0m\u001b[0;36m5\u001b[0m\u001b[0;34m==\u001b[0m\u001b[0;36m0\u001b[0m \u001b[0;32mand\u001b[0m \u001b[0;34m(\u001b[0m\u001b[0mwithdrawl_amt\u001b[0m\u001b[0;34m+\u001b[0m\u001b[0;36m0.50\u001b[0m\u001b[0;34m)\u001b[0m\u001b[0;34m<=\u001b[0m\u001b[0maccount_balance\u001b[0m\u001b[0;34m:\u001b[0m\u001b[0;34m\u001b[0m\u001b[0;34m\u001b[0m\u001b[0m\n",
      "\u001b[0;31mValueError\u001b[0m: not enough values to unpack (expected 2, got 1)"
     ]
    }
   ],
   "source": [
    "withdrawl_amt,account_balance=input().split()\n",
    "withdrawl_amt=int(withdrawl_amt)\n",
    "account_balance=float(account_balance)\n",
    "bank_charges=0.50\n",
    "if withdrawl_amt%5==0 and (withdrawl_amt+0.50)<=account_balance:\n",
    "    account_balance=account_balance-withdrawl_amt-0.50\n",
    "else:\n",
    "    print(account_balance)"
   ]
  },
  {
   "cell_type": "markdown",
   "id": "6445dd35",
   "metadata": {},
   "source": [
    "#### "
   ]
  },
  {
   "cell_type": "code",
   "execution_count": 85,
   "id": "b3b01391",
   "metadata": {},
   "outputs": [
    {
     "name": "stdout",
     "output_type": "stream",
     "text": [
      "Hello\n",
      "Hi\n"
     ]
    }
   ],
   "source": [
    "x = 5\n",
    "if x < 6:\n",
    "    print(\"Hello\")\n",
    "if x == 5:\n",
    "    print(\"Hi\")\n",
    "else:\n",
    "    print(\"Hey\")\n"
   ]
  },
  {
   "cell_type": "code",
   "execution_count": 86,
   "id": "d5f51859",
   "metadata": {},
   "outputs": [
    {
     "name": "stdout",
     "output_type": "stream",
     "text": [
      "3\n",
      "123\n",
      "6\n",
      "123\n",
      "6\n",
      "124\n",
      "7\n"
     ]
    }
   ],
   "source": [
    "t=int(input())\n",
    "for i in range (t):\n",
    "    n=int(input())\n",
    "    sum=0\n",
    "    while n!=0:\n",
    "        sum=sum+n%10\n",
    "        n=n//10\n",
    "    print(sum)   \n",
    "    "
   ]
  },
  {
   "cell_type": "code",
   "execution_count": 87,
   "id": "d343c06a",
   "metadata": {},
   "outputs": [
    {
     "name": "stdout",
     "output_type": "stream",
     "text": [
      "2\n",
      "1234\n",
      "5\n",
      "3456\n",
      "9\n"
     ]
    }
   ],
   "source": [
    "t=int(input())\n",
    "for i in range (t):\n",
    "    n=int(input())\n",
    "    l=n%10\n",
    "    while n!=0:\n",
    "        f=n%10\n",
    "        n=n//10\n",
    "    print(l+f)   "
   ]
  },
  {
   "cell_type": "code",
   "execution_count": null,
   "id": "41a04e79",
   "metadata": {},
   "outputs": [],
   "source": [
    "#codechef small factorial FCTRL2\n",
    "t=int(input())\n",
    "for i in "
   ]
  },
  {
   "cell_type": "code",
   "execution_count": null,
   "id": "9dd90aba",
   "metadata": {},
   "outputs": [],
   "source": []
  },
  {
   "cell_type": "code",
   "execution_count": null,
   "id": "81eb613a",
   "metadata": {},
   "outputs": [],
   "source": []
  },
  {
   "cell_type": "code",
   "execution_count": null,
   "id": "bbaae74f",
   "metadata": {},
   "outputs": [],
   "source": []
  },
  {
   "cell_type": "code",
   "execution_count": null,
   "id": "7e58fee2",
   "metadata": {},
   "outputs": [],
   "source": []
  },
  {
   "cell_type": "code",
   "execution_count": null,
   "id": "117ca38a",
   "metadata": {},
   "outputs": [],
   "source": []
  },
  {
   "cell_type": "code",
   "execution_count": null,
   "id": "cc79a6cf",
   "metadata": {},
   "outputs": [],
   "source": []
  },
  {
   "cell_type": "code",
   "execution_count": null,
   "id": "a80c4b4c",
   "metadata": {},
   "outputs": [],
   "source": []
  },
  {
   "cell_type": "code",
   "execution_count": null,
   "id": "82ccaacf",
   "metadata": {},
   "outputs": [],
   "source": []
  },
  {
   "cell_type": "code",
   "execution_count": null,
   "id": "5a2fa2c6",
   "metadata": {},
   "outputs": [],
   "source": []
  },
  {
   "cell_type": "code",
   "execution_count": null,
   "id": "cbc7a00d",
   "metadata": {},
   "outputs": [],
   "source": []
  },
  {
   "cell_type": "code",
   "execution_count": 89,
   "id": "7327d830",
   "metadata": {},
   "outputs": [
    {
     "name": "stdout",
     "output_type": "stream",
     "text": [
      "8\n",
      "       *\n",
      "      ***\n",
      "     *****\n",
      "    *******\n",
      "   *********\n",
      "  ***********\n",
      " *************\n",
      "***************\n"
     ]
    }
   ],
   "source": [
    "n = int(input())\n",
    "i = 1\n",
    "while  i<=n:\n",
    "    spaces =1\n",
    "    while spaces <= n-i:\n",
    "        print(' ',end='')\n",
    "        spaces = spaces + 1\n",
    "    \n",
    "    j = 1\n",
    "    p=1\n",
    "    while j<= i:\n",
    "        print(\"*\",end=\"\")\n",
    "        j=j+1\n",
    "        p=i+1\n",
    "    p=i-1\n",
    "    while p>=1:\n",
    "        print(\"*\",end=\"\")\n",
    "        p=p-1\n",
    "    print() \n",
    "    i = i+1"
   ]
  },
  {
   "cell_type": "code",
   "execution_count": 90,
   "id": "d50234c2",
   "metadata": {},
   "outputs": [
    {
     "name": "stdout",
     "output_type": "stream",
     "text": [
      "8\n",
      "       *\n",
      "      **\n",
      "     ***\n",
      "    ****\n",
      "   *****\n",
      "  ******\n",
      " *******\n",
      "********\n"
     ]
    }
   ],
   "source": [
    "n = int(input())\n",
    "i = 1\n",
    "while i<= n:\n",
    "    spaces = 1\n",
    "    while spaces <=n-i:\n",
    "        print(' ',end=\"\")\n",
    "        spaces = spaces+1\n",
    "    stars =1\n",
    "    while stars<=i:\n",
    "        print ('*',end=\"\")\n",
    "        stars = stars+1\n",
    "    print()\n",
    "    i=i+1"
   ]
  },
  {
   "cell_type": "code",
   "execution_count": null,
   "id": "02c9a7be",
   "metadata": {},
   "outputs": [],
   "source": [
    "n=int(input())\n",
    "totalspace=n*2-2\n",
    "row=1\n",
    "while(row<=n):\n",
    "    column=1\n",
    "    while column<=row:\n",
    "        print(column,end='')\n",
    "        column=column+1\n",
    "    space=1\n",
    "    while space<=totalspace:\n",
    "        print(' ',end=\"\")\n",
    "        space+=1\n",
    "    totalspace-=2\n",
    "    column=row\n",
    "    while column>0:\n",
    "        print(column,end='')\n",
    "        column-=1\n",
    "    row+=1\n",
    "    print()"
   ]
  }
 ],
 "metadata": {
  "kernelspec": {
   "display_name": "Python 3.9.7 64-bit",
   "language": "python",
   "name": "python397jvsc74a57bd0aee8b7b246df8f9039afb4144a1f6fd8d2ca17a180786b69acc140d282b71a49"
  },
  "language_info": {
   "codemirror_mode": {
    "name": "ipython",
    "version": 3
   },
   "file_extension": ".py",
   "mimetype": "text/x-python",
   "name": "python",
   "nbconvert_exporter": "python",
   "pygments_lexer": "ipython3",
   "version": "3.9.7"
  }
 },
 "nbformat": 4,
 "nbformat_minor": 5
}
